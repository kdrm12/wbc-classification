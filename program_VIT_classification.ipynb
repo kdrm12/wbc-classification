{
  "cells": [
    {
      "cell_type": "markdown",
      "metadata": {
        "id": "UMCBTUTMS_eM"
      },
      "source": [
        "# Download Library"
      ]
    },
    {
      "cell_type": "code",
      "execution_count": null,
      "metadata": {
        "colab": {
          "base_uri": "https://localhost:8080/"
        },
        "id": "KhNe5QBZCRWU",
        "outputId": "6a5d6929-e993-4f06-87d2-a4c74c88464e"
      },
      "outputs": [
        {
          "name": "stdout",
          "output_type": "stream",
          "text": [
            "Collecting datasetsNote: you may need to restart the kernel to use updated packages.\n",
            "\n",
            "  Downloading datasets-2.15.0-py3-none-any.whl (521 kB)\n",
            "     ---------------------------------------- 0.0/521.2 kB ? eta -:--:--\n",
            "     ----------- -------------------------- 163.8/521.2 kB 5.0 MB/s eta 0:00:01\n",
            "     ---------------------------------- --- 471.0/521.2 kB 5.9 MB/s eta 0:00:01\n",
            "     -------------------------------------- 521.2/521.2 kB 5.4 MB/s eta 0:00:00\n",
            "Requirement already satisfied: aiohttp in c:\\users\\andrian rakhmatsyah\\appdata\\local\\programs\\python\\python310\\lib\\site-packages (from datasets) (3.8.6)\n",
            "Requirement already satisfied: pandas in c:\\users\\andrian rakhmatsyah\\appdata\\local\\programs\\python\\python310\\lib\\site-packages (from datasets) (2.1.3)\n",
            "Collecting dill<0.3.8,>=0.3.0\n",
            "  Downloading dill-0.3.7-py3-none-any.whl (115 kB)\n",
            "     ---------------------------------------- 0.0/115.3 kB ? eta -:--:--\n",
            "     ---------------------------------------- 115.3/115.3 kB ? eta 0:00:00\n",
            "Requirement already satisfied: tqdm>=4.62.1 in c:\\users\\andrian rakhmatsyah\\appdata\\local\\programs\\python\\python310\\lib\\site-packages (from datasets) (4.66.1)\n",
            "Collecting multiprocess\n",
            "  Downloading multiprocess-0.70.15-py310-none-any.whl (134 kB)\n",
            "     ---------------------------------------- 0.0/134.8 kB ? eta -:--:--\n",
            "     -------------------------------------- 134.8/134.8 kB 7.8 MB/s eta 0:00:00\n",
            "Requirement already satisfied: fsspec[http]<=2023.10.0,>=2023.1.0 in c:\\users\\andrian rakhmatsyah\\appdata\\local\\programs\\python\\python310\\lib\\site-packages (from datasets) (2023.10.0)\n",
            "Requirement already satisfied: packaging in c:\\users\\andrian rakhmatsyah\\appdata\\roaming\\python\\python310\\site-packages (from datasets) (23.2)\n",
            "Collecting huggingface-hub>=0.18.0\n",
            "  Downloading huggingface_hub-0.19.4-py3-none-any.whl (311 kB)\n",
            "     ---------------------------------------- 0.0/311.7 kB ? eta -:--:--\n",
            "     -------------------------------------- 311.7/311.7 kB 9.7 MB/s eta 0:00:00\n",
            "Collecting pyarrow>=8.0.0\n",
            "  Downloading pyarrow-14.0.1-cp310-cp310-win_amd64.whl (24.6 MB)\n",
            "     ---------------------------------------- 0.0/24.6 MB ? eta -:--:--\n",
            "      --------------------------------------- 0.5/24.6 MB 10.0 MB/s eta 0:00:03\n",
            "     - -------------------------------------- 0.9/24.6 MB 9.6 MB/s eta 0:00:03\n",
            "     - -------------------------------------- 1.1/24.6 MB 10.1 MB/s eta 0:00:03\n",
            "     -- ------------------------------------- 1.4/24.6 MB 7.3 MB/s eta 0:00:04\n",
            "     -- ------------------------------------- 1.7/24.6 MB 7.3 MB/s eta 0:00:04\n",
            "     --- ------------------------------------ 2.1/24.6 MB 7.6 MB/s eta 0:00:03\n",
            "     ---- ----------------------------------- 2.5/24.6 MB 7.7 MB/s eta 0:00:03\n",
            "     ---- ----------------------------------- 2.9/24.6 MB 7.8 MB/s eta 0:00:03\n",
            "     ----- ---------------------------------- 3.3/24.6 MB 7.8 MB/s eta 0:00:03\n",
            "     ------ --------------------------------- 3.7/24.6 MB 7.9 MB/s eta 0:00:03\n",
            "     ------ --------------------------------- 4.1/24.6 MB 8.0 MB/s eta 0:00:03\n",
            "     ------- -------------------------------- 4.6/24.6 MB 8.2 MB/s eta 0:00:03\n",
            "     -------- ------------------------------- 5.1/24.6 MB 8.4 MB/s eta 0:00:03\n",
            "     -------- ------------------------------- 5.5/24.6 MB 8.4 MB/s eta 0:00:03\n",
            "     --------- ------------------------------ 6.1/24.6 MB 8.6 MB/s eta 0:00:03\n",
            "     ---------- ----------------------------- 6.5/24.6 MB 8.6 MB/s eta 0:00:03\n",
            "     ----------- ---------------------------- 7.0/24.6 MB 8.8 MB/s eta 0:00:03\n",
            "     ------------ --------------------------- 7.5/24.6 MB 8.9 MB/s eta 0:00:02\n",
            "     ------------ --------------------------- 8.0/24.6 MB 9.0 MB/s eta 0:00:02\n",
            "     ------------- -------------------------- 8.3/24.6 MB 9.0 MB/s eta 0:00:02\n",
            "     -------------- ------------------------- 8.8/24.6 MB 9.0 MB/s eta 0:00:02\n",
            "     --------------- ------------------------ 9.4/24.6 MB 9.1 MB/s eta 0:00:02\n",
            "     ---------------- ----------------------- 9.9/24.6 MB 9.2 MB/s eta 0:00:02\n",
            "     ---------------- ----------------------- 10.3/24.6 MB 9.2 MB/s eta 0:00:02\n",
            "     ----------------- ---------------------- 10.7/24.6 MB 9.1 MB/s eta 0:00:02\n",
            "     ------------------ --------------------- 11.3/24.6 MB 9.2 MB/s eta 0:00:02\n",
            "     ------------------- -------------------- 11.8/24.6 MB 9.8 MB/s eta 0:00:02\n",
            "     ------------------- -------------------- 12.2/24.6 MB 9.9 MB/s eta 0:00:02\n",
            "     -------------------- ------------------- 12.6/24.6 MB 9.8 MB/s eta 0:00:02\n",
            "     --------------------- ------------------ 13.1/24.6 MB 9.9 MB/s eta 0:00:02\n",
            "     --------------------- ----------------- 13.6/24.6 MB 10.1 MB/s eta 0:00:02\n",
            "     ---------------------- ---------------- 14.2/24.6 MB 10.1 MB/s eta 0:00:02\n",
            "     ----------------------- --------------- 14.8/24.6 MB 10.4 MB/s eta 0:00:01\n",
            "     ------------------------ -------------- 15.2/24.6 MB 10.2 MB/s eta 0:00:01\n",
            "     ------------------------ -------------- 15.7/24.6 MB 10.4 MB/s eta 0:00:01\n",
            "     ------------------------- ------------- 16.3/24.6 MB 10.4 MB/s eta 0:00:01\n",
            "     -------------------------- ------------ 16.8/24.6 MB 10.6 MB/s eta 0:00:01\n",
            "     --------------------------- ----------- 17.3/24.6 MB 10.4 MB/s eta 0:00:01\n",
            "     ---------------------------- ---------- 17.9/24.6 MB 10.6 MB/s eta 0:00:01\n",
            "     ----------------------------- --------- 18.4/24.6 MB 10.7 MB/s eta 0:00:01\n",
            "     ------------------------------ -------- 18.9/24.6 MB 10.7 MB/s eta 0:00:01\n",
            "     ------------------------------ -------- 19.4/24.6 MB 10.7 MB/s eta 0:00:01\n",
            "     ------------------------------- ------- 19.9/24.6 MB 10.9 MB/s eta 0:00:01\n",
            "     -------------------------------- ------ 20.5/24.6 MB 10.9 MB/s eta 0:00:01\n",
            "     --------------------------------- ----- 21.0/24.6 MB 10.9 MB/s eta 0:00:01\n",
            "     ---------------------------------- ---- 21.6/24.6 MB 10.9 MB/s eta 0:00:01\n",
            "     ----------------------------------- --- 22.1/24.6 MB 11.1 MB/s eta 0:00:01\n",
            "     ----------------------------------- --- 22.6/24.6 MB 11.3 MB/s eta 0:00:01\n",
            "     ------------------------------------ -- 23.1/24.6 MB 11.5 MB/s eta 0:00:01\n",
            "     ------------------------------------- - 23.6/24.6 MB 11.3 MB/s eta 0:00:01\n",
            "     --------------------------------------  24.2/24.6 MB 11.5 MB/s eta 0:00:01\n",
            "     --------------------------------------  24.6/24.6 MB 11.3 MB/s eta 0:00:01\n",
            "     --------------------------------------- 24.6/24.6 MB 10.9 MB/s eta 0:00:00\n",
            "Requirement already satisfied: requests>=2.19.0 in c:\\users\\andrian rakhmatsyah\\appdata\\local\\programs\\python\\python310\\lib\\site-packages (from datasets) (2.31.0)\n",
            "Collecting pyarrow-hotfix\n",
            "  Downloading pyarrow_hotfix-0.6-py3-none-any.whl (7.9 kB)\n",
            "Requirement already satisfied: pyyaml>=5.1 in c:\\users\\andrian rakhmatsyah\\appdata\\local\\programs\\python\\python310\\lib\\site-packages (from datasets) (6.0.1)\n",
            "Requirement already satisfied: numpy>=1.17 in c:\\users\\andrian rakhmatsyah\\appdata\\local\\programs\\python\\python310\\lib\\site-packages (from datasets) (1.24.3)\n",
            "Collecting xxhash\n",
            "  Downloading xxhash-3.4.1-cp310-cp310-win_amd64.whl (29 kB)\n",
            "Requirement already satisfied: frozenlist>=1.1.1 in c:\\users\\andrian rakhmatsyah\\appdata\\local\\programs\\python\\python310\\lib\\site-packages (from aiohttp->datasets) (1.4.0)\n",
            "Requirement already satisfied: async-timeout<5.0,>=4.0.0a3 in c:\\users\\andrian rakhmatsyah\\appdata\\local\\programs\\python\\python310\\lib\\site-packages (from aiohttp->datasets) (4.0.3)\n",
            "Requirement already satisfied: charset-normalizer<4.0,>=2.0 in c:\\users\\andrian rakhmatsyah\\appdata\\local\\programs\\python\\python310\\lib\\site-packages (from aiohttp->datasets) (3.3.2)\n",
            "Requirement already satisfied: aiosignal>=1.1.2 in c:\\users\\andrian rakhmatsyah\\appdata\\local\\programs\\python\\python310\\lib\\site-packages (from aiohttp->datasets) (1.3.1)\n",
            "Requirement already satisfied: yarl<2.0,>=1.0 in c:\\users\\andrian rakhmatsyah\\appdata\\local\\programs\\python\\python310\\lib\\site-packages (from aiohttp->datasets) (1.9.2)\n",
            "Requirement already satisfied: attrs>=17.3.0 in c:\\users\\andrian rakhmatsyah\\appdata\\local\\programs\\python\\python310\\lib\\site-packages (from aiohttp->datasets) (23.1.0)\n",
            "Requirement already satisfied: multidict<7.0,>=4.5 in c:\\users\\andrian rakhmatsyah\\appdata\\local\\programs\\python\\python310\\lib\\site-packages (from aiohttp->datasets) (6.0.4)\n",
            "Requirement already satisfied: filelock in c:\\users\\andrian rakhmatsyah\\appdata\\local\\programs\\python\\python310\\lib\\site-packages (from huggingface-hub>=0.18.0->datasets) (3.13.1)\n",
            "Requirement already satisfied: typing-extensions>=3.7.4.3 in c:\\users\\andrian rakhmatsyah\\appdata\\local\\programs\\python\\python310\\lib\\site-packages (from huggingface-hub>=0.18.0->datasets) (4.5.0)\n",
            "Requirement already satisfied: urllib3<3,>=1.21.1 in c:\\users\\andrian rakhmatsyah\\appdata\\local\\programs\\python\\python310\\lib\\site-packages (from requests>=2.19.0->datasets) (2.0.7)\n",
            "Requirement already satisfied: certifi>=2017.4.17 in c:\\users\\andrian rakhmatsyah\\appdata\\local\\programs\\python\\python310\\lib\\site-packages (from requests>=2.19.0->datasets) (2023.7.22)\n",
            "Requirement already satisfied: idna<4,>=2.5 in c:\\users\\andrian rakhmatsyah\\appdata\\local\\programs\\python\\python310\\lib\\site-packages (from requests>=2.19.0->datasets) (3.4)\n",
            "Requirement already satisfied: colorama in c:\\users\\andrian rakhmatsyah\\appdata\\roaming\\python\\python310\\site-packages (from tqdm>=4.62.1->datasets) (0.4.6)\n",
            "Requirement already satisfied: python-dateutil>=2.8.2 in c:\\users\\andrian rakhmatsyah\\appdata\\roaming\\python\\python310\\site-packages (from pandas->datasets) (2.8.2)\n",
            "Requirement already satisfied: pytz>=2020.1 in c:\\users\\andrian rakhmatsyah\\appdata\\local\\programs\\python\\python310\\lib\\site-packages (from pandas->datasets) (2023.3.post1)\n",
            "Requirement already satisfied: tzdata>=2022.1 in c:\\users\\andrian rakhmatsyah\\appdata\\local\\programs\\python\\python310\\lib\\site-packages (from pandas->datasets) (2023.3)\n",
            "Requirement already satisfied: six>=1.5 in c:\\users\\andrian rakhmatsyah\\appdata\\roaming\\python\\python310\\site-packages (from python-dateutil>=2.8.2->pandas->datasets) (1.16.0)\n",
            "Installing collected packages: xxhash, pyarrow-hotfix, pyarrow, dill, multiprocess, huggingface-hub, datasets\n",
            "  Attempting uninstall: huggingface-hub\n",
            "    Found existing installation: huggingface-hub 0.17.3\n",
            "    Uninstalling huggingface-hub-0.17.3:\n",
            "      Successfully uninstalled huggingface-hub-0.17.3\n",
            "Successfully installed datasets-2.15.0 dill-0.3.7 huggingface-hub-0.19.4 multiprocess-0.70.15 pyarrow-14.0.1 pyarrow-hotfix-0.6 xxhash-3.4.1\n"
          ]
        },
        {
          "name": "stderr",
          "output_type": "stream",
          "text": [
            "ERROR: pip's dependency resolver does not currently take into account all the packages that are installed. This behaviour is the source of the following dependency conflicts.\n",
            "tokenizers 0.14.1 requires huggingface_hub<0.18,>=0.16.4, but you have huggingface-hub 0.19.4 which is incompatible.\n",
            "\n",
            "[notice] A new release of pip is available: 23.0.1 -> 23.3.1\n",
            "[notice] To update, run: python.exe -m pip install --upgrade pip\n"
          ]
        }
      ],
      "source": [
        "# pip install datasets"
      ]
    },
    {
      "cell_type": "code",
      "execution_count": null,
      "metadata": {
        "id": "Yq244tEk_6JX",
        "outputId": "51fae665-1dcf-4de7-ee18-12daaa02f43b"
      },
      "outputs": [
        {
          "name": "stdout",
          "output_type": "stream",
          "text": [
            "Collecting tensorflow-gpu\n",
            "  Using cached tensorflow-gpu-2.12.0.tar.gz (2.6 kB)\n",
            "  Preparing metadata (setup.py): started\n",
            "  Preparing metadata (setup.py): finished with status 'done'\n",
            "Requirement already satisfied: python_version>\"3.7\" in c:\\users\\andrian rakhmatsyah\\appdata\\roaming\\python\\python310\\site-packages (from tensorflow-gpu) (0.0.2)\n",
            "Building wheels for collected packages: tensorflow-gpu\n",
            "  Building wheel for tensorflow-gpu (setup.py): started\n",
            "  Building wheel for tensorflow-gpu (setup.py): finished with status 'error'\n",
            "  Running setup.py clean for tensorflow-gpu\n",
            "Failed to build tensorflow-gpu\n",
            "Installing collected packages: tensorflow-gpu\n",
            "  Running setup.py install for tensorflow-gpu: started\n",
            "  Running setup.py install for tensorflow-gpu: finished with status 'error'\n",
            "Note: you may need to restart the kernel to use updated packages.\n"
          ]
        },
        {
          "name": "stderr",
          "output_type": "stream",
          "text": [
            "  error: subprocess-exited-with-error\n",
            "  \n",
            "  × python setup.py bdist_wheel did not run successfully.\n",
            "  │ exit code: 1\n",
            "  ╰─> [18 lines of output]\n",
            "      Traceback (most recent call last):\n",
            "        File \"<string>\", line 2, in <module>\n",
            "        File \"<pip-setuptools-caller>\", line 34, in <module>\n",
            "        File \"C:\\Users\\Andrian Rakhmatsyah\\AppData\\Local\\Temp\\pip-install-qi117zgc\\tensorflow-gpu_d125d55219ce423c914326e21b107fbd\\setup.py\", line 37, in <module>\n",
            "          raise Exception(TF_REMOVAL_WARNING)\n",
            "      Exception:\n",
            "      \n",
            "      =========================================================\n",
            "      The \"tensorflow-gpu\" package has been removed!\n",
            "      \n",
            "      Please install \"tensorflow\" instead.\n",
            "      \n",
            "      Other than the name, the two packages have been identical\n",
            "      since TensorFlow 2.1, or roughly since Sep 2019. For more\n",
            "      information, see: pypi.org/project/tensorflow-gpu\n",
            "      =========================================================\n",
            "      \n",
            "      \n",
            "      [end of output]\n",
            "  \n",
            "  note: This error originates from a subprocess, and is likely not a problem with pip.\n",
            "  ERROR: Failed building wheel for tensorflow-gpu\n",
            "  error: subprocess-exited-with-error\n",
            "  \n",
            "  × Running setup.py install for tensorflow-gpu did not run successfully.\n",
            "  │ exit code: 1\n",
            "  ╰─> [18 lines of output]\n",
            "      Traceback (most recent call last):\n",
            "        File \"<string>\", line 2, in <module>\n",
            "        File \"<pip-setuptools-caller>\", line 34, in <module>\n",
            "        File \"C:\\Users\\Andrian Rakhmatsyah\\AppData\\Local\\Temp\\pip-install-qi117zgc\\tensorflow-gpu_d125d55219ce423c914326e21b107fbd\\setup.py\", line 37, in <module>\n",
            "          raise Exception(TF_REMOVAL_WARNING)\n",
            "      Exception:\n",
            "      \n",
            "      =========================================================\n",
            "      The \"tensorflow-gpu\" package has been removed!\n",
            "      \n",
            "      Please install \"tensorflow\" instead.\n",
            "      \n",
            "      Other than the name, the two packages have been identical\n",
            "      since TensorFlow 2.1, or roughly since Sep 2019. For more\n",
            "      information, see: pypi.org/project/tensorflow-gpu\n",
            "      =========================================================\n",
            "      \n",
            "      \n",
            "      [end of output]\n",
            "  \n",
            "  note: This error originates from a subprocess, and is likely not a problem with pip.\n",
            "error: legacy-install-failure\n",
            "\n",
            "× Encountered error while trying to install package.\n",
            "╰─> tensorflow-gpu\n",
            "\n",
            "note: This is an issue with the package mentioned above, not pip.\n",
            "hint: See above for output from the failure.\n",
            "\n",
            "[notice] A new release of pip is available: 23.0.1 -> 23.3.1\n",
            "[notice] To update, run: python.exe -m pip install --upgrade pip\n"
          ]
        }
      ],
      "source": [
        "# pip install tensorflow-gpu"
      ]
    },
    {
      "cell_type": "markdown",
      "metadata": {
        "id": "UUKXyV8NQQ1x"
      },
      "source": [
        "# Import Library"
      ]
    },
    {
      "cell_type": "code",
      "execution_count": null,
      "metadata": {
        "id": "aVyV_CP9LYkH",
        "outputId": "b0a5ecce-459c-4862-8e63-29e94fdcfb76"
      },
      "outputs": [
        {
          "name": "stderr",
          "output_type": "stream",
          "text": [
            "c:\\Users\\Andrian Rakhmatsyah\\AppData\\Local\\Programs\\Python\\Python310\\lib\\site-packages\\tqdm\\auto.py:21: TqdmWarning: IProgress not found. Please update jupyter and ipywidgets. See https://ipywidgets.readthedocs.io/en/stable/user_install.html\n",
            "  from .autonotebook import tqdm as notebook_tqdm\n"
          ]
        },
        {
          "name": "stdout",
          "output_type": "stream",
          "text": [
            "WARNING:tensorflow:From c:\\Users\\Andrian Rakhmatsyah\\AppData\\Local\\Programs\\Python\\Python310\\lib\\site-packages\\keras\\src\\losses.py:2976: The name tf.losses.sparse_softmax_cross_entropy is deprecated. Please use tf.compat.v1.losses.sparse_softmax_cross_entropy instead.\n",
            "\n"
          ]
        }
      ],
      "source": [
        "import zipfile\n",
        "\n",
        "import os\n",
        "import datasets\n",
        "\n",
        "import numpy as np\n",
        "import pandas as pd\n",
        "import matplotlib.pyplot as plt\n",
        "from sklearn import metrics\n",
        "import seaborn as sns\n",
        "\n",
        "import tensorflow as tf\n",
        "from tensorflow import keras\n",
        "from keras.layers import Input, Dense\n",
        "# from keras.layers import GlobalAveragePooling2D, Flatten, InputLayer, Input, BatchNormalization, Dropout, Dense, Resizing, Rescaling, Permute\n",
        "\n",
        "from transformers import ViTFeatureExtractor, TFViTModel, DefaultDataCollator\n",
        "# from transformers import DefaultDataCollator\n",
        "# import datasets"
      ]
    },
    {
      "cell_type": "markdown",
      "metadata": {
        "id": "4UTnvs8mVbZz"
      },
      "source": [
        "# Ambil Gambar"
      ]
    },
    {
      "cell_type": "code",
      "execution_count": null,
      "metadata": {
        "colab": {
          "base_uri": "https://localhost:8080/"
        },
        "id": "83cQW46yZuKk",
        "outputId": "b92e1738-e928-456d-c701-c53e57feac53"
      },
      "outputs": [
        {
          "name": "stdout",
          "output_type": "stream",
          "text": [
            "Downloading...\n",
            "From: https://docs.google.com/uc?export=download&id=1SmeVvq1b2Rmrkd4FLHrlL5t3T3AHQkCH\n",
            "To: /content/datasetvit-20231126T111622Z-001.zip\n",
            "100% 57.0M/57.0M [00:00<00:00, 121MB/s]\n"
          ]
        }
      ],
      "source": [
        "# !gdown 'https://docs.google.com/uc?export=download&id=1SmeVvq1b2Rmrkd4FLHrlL5t3T3AHQkCH'\n",
        "\n",
        "# local_zip = '/content/datasetvit-20231126T111622Z-001.zip'\n",
        "# zip_ref = zipfile.ZipFile(local_zip, 'r')\n",
        "# zip_ref.extractall('/content')\n",
        "# zip_ref.close()"
      ]
    },
    {
      "cell_type": "markdown",
      "metadata": {
        "id": "t-g3I2wdfapz"
      },
      "source": [
        "# Dataset dan Prapemrosesan"
      ]
    },
    {
      "cell_type": "code",
      "execution_count": null,
      "metadata": {
        "id": "vQPWBpiyfbN4"
      },
      "outputs": [],
      "source": [
        "def create_image_folder_dataset(root_path):\n",
        "  \"\"\"creates `Dataset` from image folder structure\"\"\"\n",
        "\n",
        "  # get class names by folders names\n",
        "  _CLASS_NAMES= os.listdir(root_path)\n",
        "  # defines `datasets` features`\n",
        "  features=datasets.Features({\n",
        "                      \"img\": datasets.Image(),\n",
        "                      \"label\": datasets.features.ClassLabel(names=_CLASS_NAMES),\n",
        "                  })\n",
        "  # temp list holding datapoints for creation\n",
        "  img_data_files=[]\n",
        "  label_data_files=[]\n",
        "  # load images into list for creation\n",
        "  for img_class in os.listdir(root_path):\n",
        "    for img in os.listdir(os.path.join(root_path,img_class)):\n",
        "      path_=os.path.join(root_path,img_class,img)\n",
        "      img_data_files.append(path_)\n",
        "      label_data_files.append(img_class)\n",
        "  # create dataset\n",
        "  ds = datasets.Dataset.from_dict({\"img\":img_data_files,\"label\":label_data_files},features=features)\n",
        "  return ds"
      ]
    },
    {
      "cell_type": "code",
      "execution_count": null,
      "metadata": {
        "id": "9TONHdXYfiqN"
      },
      "outputs": [],
      "source": [
        "dataset_train = create_image_folder_dataset(r\"D:\\experimen\\datasetvit\\train\")\n",
        "dataset_valid = create_image_folder_dataset(r\"D:\\experimen\\datasetvit\\valid\")\n",
        "dataset_test = create_image_folder_dataset(r\"D:\\experimen\\datasetvit\\test\")"
      ]
    },
    {
      "cell_type": "code",
      "execution_count": null,
      "metadata": {
        "colab": {
          "base_uri": "https://localhost:8080/"
        },
        "id": "8LfI6s5hgVSF",
        "outputId": "34ce1c2a-5761-4050-eccf-1ea1f7c9ff8c"
      },
      "outputs": [
        {
          "data": {
            "text/plain": [
              "['Basophil', 'Eosinophil', 'Lymphocyte', 'Monocyte', 'Neutrophil']"
            ]
          },
          "execution_count": 4,
          "metadata": {},
          "output_type": "execute_result"
        }
      ],
      "source": [
        "img_class_labels = dataset_train.features[\"label\"].names\n",
        "img_class_labels"
      ]
    },
    {
      "cell_type": "code",
      "execution_count": null,
      "metadata": {
        "colab": {
          "base_uri": "https://localhost:8080/",
          "height": 104,
          "referenced_widgets": [
            "36ce8d9657574b1a8911e7743840d7ff",
            "df9664849c0f400a8f2aa97ca4ae46c9",
            "9934d807dbb6428f95bc02a009955d34",
            "5cf60224048f489d8878df2f331ee764",
            "4ae056d6dca84a88b4bcd1d9e049b0ce",
            "80c66bf6f69b44f391623bd69057f362",
            "7de39436dad746a5a73379fd82b994d4",
            "9971aad12e8f432f9596276a97cba973",
            "a2c1460e77a9416b8884dc54ca8216dd",
            "d0efe552e51446279f8032b776702919",
            "807b10457d5046d0945b9b2b8d716a51"
          ]
        },
        "id": "QFEdQ_nOgc9U",
        "outputId": "b0fcb865-1f46-45dd-bc3e-5975b1318dc4"
      },
      "outputs": [
        {
          "name": "stderr",
          "output_type": "stream",
          "text": [
            "c:\\Users\\Andrian Rakhmatsyah\\AppData\\Local\\Programs\\Python\\Python310\\lib\\site-packages\\transformers\\models\\vit\\feature_extraction_vit.py:28: FutureWarning: The class ViTFeatureExtractor is deprecated and will be removed in version 5 of Transformers. Please use ViTImageProcessor instead.\n",
            "  warnings.warn(\n"
          ]
        }
      ],
      "source": [
        "feature_extractor = ViTFeatureExtractor.from_pretrained(\"google/vit-base-patch16-224\")\n",
        "\n",
        "# basic processing (only resizing)\n",
        "def process(examples):\n",
        "    examples.update(feature_extractor(examples['img'], ))\n",
        "    return examples\n",
        "\n",
        "# we are also renaming our label col to labels to use `.to_tf_dataset` later\n",
        "dataset_train = dataset_train.rename_column(\"label\", \"labels\")\n",
        "dataset_valid = dataset_valid.rename_column(\"label\", \"labels\")\n",
        "dataset_test = dataset_test.rename_column(\"label\", \"labels\")"
      ]
    },
    {
      "cell_type": "code",
      "execution_count": null,
      "metadata": {
        "colab": {
          "base_uri": "https://localhost:8080/",
          "height": 182,
          "referenced_widgets": [
            "08e08f04306c4416bf52306632ed59ec",
            "5616131119b14d28b5ed520fad858dc5",
            "0c56237eebca4663b07525e49f13460c",
            "5bbedd37bd9e448389c4af101c761223",
            "4ed488c6f8934e07bb4d0cb899e9512d",
            "a41782a0d4ac41a7a8cfcc549b7a2799",
            "131cacd35e7341f38129ff904ccf056b",
            "fe62e91880a749e1a9c78186161b61f0",
            "e473dde53c644a22b614a2c237c80af5",
            "3fe1fed8d2b34f729b9b154137361db6",
            "9d49a3ac7f8e415ab6dd85317de1e9cc",
            "900dce9c3e5d419daf1093f342460bed",
            "adc63d2ff9fb4f4da158a0d1341b7f01",
            "5f3a0d78c96b4485a770bd55da825e29",
            "39ccf3750bc44f64b6893024d17622ed",
            "273ab814347b4bc394809ff5f1e6b063",
            "7df71c5fa687419781f30548fc7316f7",
            "ea03904efebf46f0b4255f7953f992f5",
            "4756be46210a4e0788192a57dfa8404c",
            "9315e3de3b384b11b22b976a3b8bbe83",
            "bb337ddd565e4bd7b113e6fb3415e9f4",
            "fe651ff72f1148fc982582e6456fbe2d",
            "d2dea94b52f94cd3ab3d3a1715619677",
            "4b88c1159427400fa501b7c8ac594136",
            "3c91d06e25654247835d76f9217f7e1f",
            "67d2ea6b256b43cc910bd2867d9457d1",
            "87951c4dfe8d4526977d21e8169ac1a5",
            "9da5a1d3f0844731bf7683a0d8dbe492",
            "5e96584550aa4d7d91015ee5c9cb7e8c",
            "950d5d39ce42419db8d58381e58495cf",
            "40474747731a4c6b816fdda0901b54b1",
            "c8f9b595ed844c4d83a1b9f8ec10c1a1",
            "d38333d04f194cd89b2ed1714f56a0f4"
          ]
        },
        "id": "WZh2jUbjg1D0",
        "outputId": "edf8fc67-c6ef-409d-9b72-a337c54c3634"
      },
      "outputs": [
        {
          "name": "stderr",
          "output_type": "stream",
          "text": [
            "Map: 100%|██████████| 1000/1000 [00:11<00:00, 90.47 examples/s]\n",
            "Map: 100%|██████████| 250/250 [00:02<00:00, 87.48 examples/s]\n",
            "Map: 100%|██████████| 150/150 [00:01<00:00, 90.21 examples/s]\n"
          ]
        },
        {
          "data": {
            "text/plain": [
              "Dataset({\n",
              "    features: ['img', 'labels', 'pixel_values'],\n",
              "    num_rows: 1000\n",
              "})"
            ]
          },
          "execution_count": 6,
          "metadata": {},
          "output_type": "execute_result"
        }
      ],
      "source": [
        "processed_dataset_train = dataset_train.map(process, batched=True)\n",
        "processed_dataset_valid = dataset_valid.map(process, batched=True)\n",
        "processed_dataset_test = dataset_test.map(process, batched=True)\n",
        "processed_dataset_train"
      ]
    },
    {
      "cell_type": "code",
      "execution_count": null,
      "metadata": {
        "colab": {
          "base_uri": "https://localhost:8080/"
        },
        "id": "Mv7LAC7kj9Ly",
        "outputId": "72039a98-4d3e-4752-d498-9f6075830c10"
      },
      "outputs": [
        {
          "name": "stderr",
          "output_type": "stream",
          "text": [
            "c:\\Users\\Andrian Rakhmatsyah\\AppData\\Local\\Programs\\Python\\Python310\\lib\\site-packages\\datasets\\arrow_dataset.py:399: FutureWarning: The output of `to_tf_dataset` will change when a passing single element list for `labels` or `columns` in the next datasets version. To return a tuple structure rather than dict, pass a single string.\n",
            "Old behaviour: columns=['a'], labels=['labels'] -> (tf.Tensor, tf.Tensor)  \n",
            "             : columns='a', labels='labels' -> (tf.Tensor, tf.Tensor)  \n",
            "New behaviour: columns=['a'],labels=['labels'] -> ({'a': tf.Tensor}, {'labels': tf.Tensor})  \n",
            "             : columns='a', labels='labels' -> (tf.Tensor, tf.Tensor) \n",
            "  warnings.warn(\n"
          ]
        }
      ],
      "source": [
        "data_collator = DefaultDataCollator(return_tensors=\"tf\")\n",
        "\n",
        "tf_train_dataset = processed_dataset_train.to_tf_dataset(\n",
        "   columns=['pixel_values'],\n",
        "   label_cols=[\"labels\"],\n",
        "   shuffle=True,\n",
        "   batch_size=32,\n",
        "   collate_fn=data_collator)\n",
        "\n",
        "tf_valid_dataset = processed_dataset_valid.to_tf_dataset(\n",
        "   columns=['pixel_values'],\n",
        "   label_cols=[\"labels\"],\n",
        "   shuffle=True,\n",
        "   batch_size=32,\n",
        "   collate_fn=data_collator)\n",
        "\n",
        "tf_test_dataset = processed_dataset_test.to_tf_dataset(\n",
        "   columns=['pixel_values'],\n",
        "   label_cols=[\"labels\"],\n",
        "   shuffle=False,\n",
        "   batch_size=1,\n",
        "   collate_fn=data_collator)"
      ]
    },
    {
      "cell_type": "code",
      "execution_count": null,
      "metadata": {
        "id": "Ayro9gZq_6Ja"
      },
      "outputs": [],
      "source": [
        "tf_test_dataset = processed_dataset_test.to_tf_dataset(\n",
        "   columns=['pixel_values'],\n",
        "   label_cols=[\"labels\"],\n",
        "   shuffle=False,\n",
        "   batch_size=1,\n",
        "   collate_fn=data_collator)"
      ]
    },
    {
      "cell_type": "markdown",
      "metadata": {
        "id": "FF2GhO4FSn5H"
      },
      "source": [
        "# Pembuatan Model VIT (50 epoch)"
      ]
    },
    {
      "cell_type": "code",
      "execution_count": null,
      "metadata": {
        "colab": {
          "base_uri": "https://localhost:8080/"
        },
        "id": "rT8S87POdRld",
        "outputId": "ed1bfbb0-60a4-4552-c242-acfe4d744e23"
      },
      "outputs": [
        {
          "name": "stdout",
          "output_type": "stream",
          "text": [
            "WARNING:tensorflow:From c:\\Users\\Andrian Rakhmatsyah\\AppData\\Local\\Programs\\Python\\Python310\\lib\\site-packages\\keras\\src\\backend.py:873: The name tf.get_default_graph is deprecated. Please use tf.compat.v1.get_default_graph instead.\n",
            "\n"
          ]
        },
        {
          "name": "stderr",
          "output_type": "stream",
          "text": [
            "All model checkpoint layers were used when initializing TFViTModel.\n",
            "\n",
            "All the layers of TFViTModel were initialized from the model checkpoint at google/vit-base-patch16-224-in21k.\n",
            "If your task is similar to the task the model of the checkpoint was trained on, you can already use TFViTModel for predictions without further training.\n"
          ]
        },
        {
          "name": "stdout",
          "output_type": "stream",
          "text": [
            "WARNING:tensorflow:From c:\\Users\\Andrian Rakhmatsyah\\AppData\\Local\\Programs\\Python\\Python310\\lib\\site-packages\\keras\\src\\optimizers\\__init__.py:309: The name tf.train.Optimizer is deprecated. Please use tf.compat.v1.train.Optimizer instead.\n",
            "\n",
            "Model: \"model\"\n",
            "_________________________________________________________________\n",
            " Layer (type)                Output Shape              Param #   \n",
            "=================================================================\n",
            " pixel_values (InputLayer)   [(None, 3, 224, 224)]     0         \n",
            "                                                                 \n",
            " vit (TFViTMainLayer)        TFBaseModelOutputWithPo   86389248  \n",
            "                             oling(last_hidden_state             \n",
            "                             =(None, 197, 768),                  \n",
            "                              pooler_output=(None, 7             \n",
            "                             68),                                \n",
            "                              hidden_states=None, at             \n",
            "                             tentions=None)                      \n",
            "                                                                 \n",
            " tf.__operators__.getitem (  (None, 768)               0         \n",
            " SlicingOpLambda)                                                \n",
            "                                                                 \n",
            " dense (Dense)               (None, 64)                49216     \n",
            "                                                                 \n",
            " outputs (Dense)             (None, 5)                 325       \n",
            "                                                                 \n",
            "=================================================================\n",
            "Total params: 86438789 (329.74 MB)\n",
            "Trainable params: 49541 (193.52 KB)\n",
            "Non-trainable params: 86389248 (329.55 MB)\n",
            "_________________________________________________________________\n"
          ]
        }
      ],
      "source": [
        "base_model = TFViTModel.from_pretrained('google/vit-base-patch16-224-in21k')\n",
        "\n",
        "# augmentation = keras.Sequential([\n",
        "#     Resizing(224, 224),\n",
        "#     Rescaling(1.0/255),\n",
        "#     Permute((3, 1, 2))\n",
        "# ])\n",
        "\n",
        "\n",
        "# inputs\n",
        "pixel_values = Input(shape=(3,224,224), name='pixel_values', dtype='float32')\n",
        "\n",
        "# model layer\n",
        "vit = base_model.vit(pixel_values)[0][:, 0, :]\n",
        "x = Dense(64, activation=\"relu\")(vit)\n",
        "classifier = Dense(len(img_class_labels), activation='softmax', name='outputs')(x)\n",
        "\n",
        "# model\n",
        "keras_model = tf.keras.Model(inputs=pixel_values, outputs=classifier)\n",
        "for layer in keras_model.layers[:2]:\n",
        "    layer.trainable = False\n",
        "# compile\n",
        "keras_model.compile(loss='sparse_categorical_crossentropy', optimizer='adam', metrics=['accuracy'])\n",
        "keras_model.summary()"
      ]
    },
    {
      "cell_type": "code",
      "execution_count": null,
      "metadata": {
        "colab": {
          "base_uri": "https://localhost:8080/"
        },
        "id": "sh-Wk6xgjd-B",
        "outputId": "abb1ec1c-a4de-4239-b905-6e8da3922409"
      },
      "outputs": [
        {
          "name": "stdout",
          "output_type": "stream",
          "text": [
            "Epoch 1/50\n",
            "WARNING:tensorflow:From c:\\Users\\Andrian Rakhmatsyah\\AppData\\Local\\Programs\\Python\\Python310\\lib\\site-packages\\keras\\src\\utils\\tf_utils.py:492: The name tf.ragged.RaggedTensorValue is deprecated. Please use tf.compat.v1.ragged.RaggedTensorValue instead.\n",
            "\n",
            "WARNING:tensorflow:From c:\\Users\\Andrian Rakhmatsyah\\AppData\\Local\\Programs\\Python\\Python310\\lib\\site-packages\\keras\\src\\engine\\base_layer_utils.py:384: The name tf.executing_eagerly_outside_functions is deprecated. Please use tf.compat.v1.executing_eagerly_outside_functions instead.\n",
            "\n",
            "32/32 [==============================] - 50s 1s/step - loss: 1.2103 - accuracy: 0.6000 - val_loss: 0.7639 - val_accuracy: 0.8160\n",
            "Epoch 2/50\n",
            "32/32 [==============================] - 44s 1s/step - loss: 0.7474 - accuracy: 0.7900 - val_loss: 0.5462 - val_accuracy: 0.8560\n",
            "Epoch 3/50\n",
            "32/32 [==============================] - 44s 1s/step - loss: 0.5667 - accuracy: 0.8450 - val_loss: 0.4525 - val_accuracy: 0.8760\n",
            "Epoch 4/50\n",
            "32/32 [==============================] - 44s 1s/step - loss: 0.4794 - accuracy: 0.8640 - val_loss: 0.4154 - val_accuracy: 0.8680\n",
            "Epoch 5/50\n",
            "32/32 [==============================] - 44s 1s/step - loss: 0.4260 - accuracy: 0.8660 - val_loss: 0.5058 - val_accuracy: 0.7880\n",
            "Epoch 6/50\n",
            "32/32 [==============================] - 45s 1s/step - loss: 0.3778 - accuracy: 0.8860 - val_loss: 0.3648 - val_accuracy: 0.8640\n",
            "Epoch 7/50\n",
            "32/32 [==============================] - 45s 1s/step - loss: 0.3464 - accuracy: 0.8970 - val_loss: 0.3962 - val_accuracy: 0.8680\n",
            "Epoch 8/50\n",
            "32/32 [==============================] - 45s 1s/step - loss: 0.3132 - accuracy: 0.9120 - val_loss: 0.3179 - val_accuracy: 0.9040\n",
            "Epoch 9/50\n",
            "32/32 [==============================] - 45s 1s/step - loss: 0.2872 - accuracy: 0.9140 - val_loss: 0.3200 - val_accuracy: 0.8840\n",
            "Epoch 10/50\n",
            "32/32 [==============================] - 45s 1s/step - loss: 0.2590 - accuracy: 0.9220 - val_loss: 0.3128 - val_accuracy: 0.8960\n",
            "Epoch 11/50\n",
            "32/32 [==============================] - 45s 1s/step - loss: 0.2430 - accuracy: 0.9300 - val_loss: 0.2809 - val_accuracy: 0.8960\n",
            "Epoch 12/50\n",
            "32/32 [==============================] - 55s 2s/step - loss: 0.2286 - accuracy: 0.9380 - val_loss: 0.3322 - val_accuracy: 0.8920\n",
            "Epoch 13/50\n",
            "32/32 [==============================] - 45s 1s/step - loss: 0.2164 - accuracy: 0.9390 - val_loss: 0.2706 - val_accuracy: 0.9080\n",
            "Epoch 14/50\n",
            "32/32 [==============================] - 45s 1s/step - loss: 0.2158 - accuracy: 0.9330 - val_loss: 0.3223 - val_accuracy: 0.8760\n",
            "Epoch 15/50\n",
            "32/32 [==============================] - 79s 2s/step - loss: 0.1898 - accuracy: 0.9470 - val_loss: 0.3223 - val_accuracy: 0.8920\n",
            "Epoch 16/50\n",
            "32/32 [==============================] - 108s 3s/step - loss: 0.1839 - accuracy: 0.9500 - val_loss: 0.2467 - val_accuracy: 0.9120\n",
            "Epoch 17/50\n",
            "32/32 [==============================] - 66s 2s/step - loss: 0.1689 - accuracy: 0.9530 - val_loss: 0.2696 - val_accuracy: 0.9080\n",
            "Epoch 18/50\n",
            "32/32 [==============================] - 44s 1s/step - loss: 0.1677 - accuracy: 0.9460 - val_loss: 0.2483 - val_accuracy: 0.9160\n",
            "Epoch 19/50\n",
            "32/32 [==============================] - 45s 1s/step - loss: 0.1517 - accuracy: 0.9540 - val_loss: 0.2862 - val_accuracy: 0.9040\n",
            "Epoch 20/50\n",
            "32/32 [==============================] - 45s 1s/step - loss: 0.1605 - accuracy: 0.9460 - val_loss: 0.2584 - val_accuracy: 0.9160\n",
            "Epoch 21/50\n",
            "32/32 [==============================] - 45s 1s/step - loss: 0.1364 - accuracy: 0.9660 - val_loss: 0.2201 - val_accuracy: 0.9200\n",
            "Epoch 22/50\n",
            "32/32 [==============================] - 45s 1s/step - loss: 0.1293 - accuracy: 0.9680 - val_loss: 0.2106 - val_accuracy: 0.9280\n",
            "Epoch 23/50\n",
            "32/32 [==============================] - 45s 1s/step - loss: 0.1255 - accuracy: 0.9670 - val_loss: 0.2626 - val_accuracy: 0.9120\n",
            "Epoch 24/50\n",
            "32/32 [==============================] - 45s 1s/step - loss: 0.1146 - accuracy: 0.9700 - val_loss: 0.2337 - val_accuracy: 0.9240\n",
            "Epoch 25/50\n",
            "32/32 [==============================] - 45s 1s/step - loss: 0.1137 - accuracy: 0.9690 - val_loss: 0.2758 - val_accuracy: 0.9120\n",
            "Epoch 26/50\n",
            "32/32 [==============================] - 45s 1s/step - loss: 0.1043 - accuracy: 0.9790 - val_loss: 0.2057 - val_accuracy: 0.9280\n",
            "Epoch 27/50\n",
            "32/32 [==============================] - 45s 1s/step - loss: 0.1001 - accuracy: 0.9730 - val_loss: 0.2211 - val_accuracy: 0.9280\n",
            "Epoch 28/50\n",
            "32/32 [==============================] - 45s 1s/step - loss: 0.0969 - accuracy: 0.9800 - val_loss: 0.2697 - val_accuracy: 0.9120\n",
            "Epoch 29/50\n",
            "32/32 [==============================] - 45s 1s/step - loss: 0.0999 - accuracy: 0.9750 - val_loss: 0.2273 - val_accuracy: 0.9280\n",
            "Epoch 30/50\n",
            "32/32 [==============================] - 45s 1s/step - loss: 0.0880 - accuracy: 0.9830 - val_loss: 0.2485 - val_accuracy: 0.9200\n",
            "Epoch 31/50\n",
            "32/32 [==============================] - 45s 1s/step - loss: 0.0823 - accuracy: 0.9870 - val_loss: 0.2219 - val_accuracy: 0.9200\n",
            "Epoch 32/50\n",
            "32/32 [==============================] - 45s 1s/step - loss: 0.0857 - accuracy: 0.9810 - val_loss: 0.2783 - val_accuracy: 0.9120\n",
            "Epoch 33/50\n",
            "32/32 [==============================] - 45s 1s/step - loss: 0.0803 - accuracy: 0.9820 - val_loss: 0.2311 - val_accuracy: 0.9280\n",
            "Epoch 34/50\n",
            "32/32 [==============================] - 45s 1s/step - loss: 0.0721 - accuracy: 0.9870 - val_loss: 0.2412 - val_accuracy: 0.9160\n",
            "Epoch 35/50\n",
            "32/32 [==============================] - 45s 1s/step - loss: 0.0763 - accuracy: 0.9840 - val_loss: 0.2272 - val_accuracy: 0.9240\n",
            "Epoch 36/50\n",
            "32/32 [==============================] - 45s 1s/step - loss: 0.0669 - accuracy: 0.9890 - val_loss: 0.2106 - val_accuracy: 0.9320\n",
            "Epoch 37/50\n",
            "32/32 [==============================] - 45s 1s/step - loss: 0.0642 - accuracy: 0.9890 - val_loss: 0.2400 - val_accuracy: 0.9200\n",
            "Epoch 38/50\n",
            "32/32 [==============================] - 45s 1s/step - loss: 0.0626 - accuracy: 0.9890 - val_loss: 0.2004 - val_accuracy: 0.9360\n",
            "Epoch 39/50\n",
            "32/32 [==============================] - 45s 1s/step - loss: 0.0627 - accuracy: 0.9880 - val_loss: 0.1877 - val_accuracy: 0.9400\n",
            "Epoch 40/50\n",
            "32/32 [==============================] - 45s 1s/step - loss: 0.0562 - accuracy: 0.9920 - val_loss: 0.2186 - val_accuracy: 0.9280\n",
            "Epoch 41/50\n",
            "32/32 [==============================] - 46s 1s/step - loss: 0.0536 - accuracy: 0.9900 - val_loss: 0.2416 - val_accuracy: 0.9240\n",
            "Epoch 42/50\n",
            "32/32 [==============================] - 46s 1s/step - loss: 0.0622 - accuracy: 0.9870 - val_loss: 0.1893 - val_accuracy: 0.9440\n",
            "Epoch 43/50\n",
            "32/32 [==============================] - 63s 2s/step - loss: 0.0493 - accuracy: 0.9950 - val_loss: 0.2793 - val_accuracy: 0.9200\n",
            "Epoch 44/50\n",
            "32/32 [==============================] - 45s 1s/step - loss: 0.0459 - accuracy: 0.9970 - val_loss: 0.2232 - val_accuracy: 0.9240\n",
            "Epoch 45/50\n",
            "32/32 [==============================] - 44s 1s/step - loss: 0.0452 - accuracy: 0.9960 - val_loss: 0.2493 - val_accuracy: 0.9200\n",
            "Epoch 46/50\n",
            "32/32 [==============================] - 45s 1s/step - loss: 0.0424 - accuracy: 0.9960 - val_loss: 0.2754 - val_accuracy: 0.9160\n",
            "Epoch 47/50\n",
            "32/32 [==============================] - 45s 1s/step - loss: 0.0431 - accuracy: 0.9960 - val_loss: 0.1966 - val_accuracy: 0.9440\n",
            "Epoch 48/50\n",
            "32/32 [==============================] - 45s 1s/step - loss: 0.0407 - accuracy: 0.9960 - val_loss: 0.2309 - val_accuracy: 0.9240\n",
            "Epoch 49/50\n",
            "32/32 [==============================] - 45s 1s/step - loss: 0.0439 - accuracy: 0.9940 - val_loss: 0.2136 - val_accuracy: 0.9240\n",
            "Epoch 50/50\n",
            "32/32 [==============================] - 45s 1s/step - loss: 0.0374 - accuracy: 0.9980 - val_loss: 0.2216 - val_accuracy: 0.9320\n"
          ]
        }
      ],
      "source": [
        "train_results = keras_model.fit(\n",
        "    tf_train_dataset,\n",
        "    validation_data=tf_valid_dataset,\n",
        "    epochs=50,\n",
        "    verbose=1\n",
        ")"
      ]
    },
    {
      "cell_type": "code",
      "execution_count": null,
      "metadata": {
        "id": "CNr6QfIO_6Jb",
        "outputId": "c3e9e43f-0f68-4d69-d67d-f21e67d27b08"
      },
      "outputs": [
        {
          "data": {
            "image/png": "[encoded data removed]",
            "text/plain": [
              "<Figure size 1000x1000 with 2 Axes>"
            ]
          },
          "metadata": {},
          "output_type": "display_data"
        }
      ],
      "source": [
        "acc = train_results.history['accuracy']\n",
        "val_acc = train_results.history['val_accuracy']\n",
        "loss = train_results.history['loss']\n",
        "val_loss = train_results.history['val_loss']\n",
        "\n",
        "epochs = range(len(acc))\n",
        "\n",
        "fig, ax = plt.subplots (nrows=2, ncols=1, sharey=True, figsize=(10, 10))\n",
        "\n",
        "ax[0].plot(epochs, acc, 'orange', label='Training accuracy')\n",
        "ax[0].plot(epochs, val_acc, 'b', label='Validation accuracy')\n",
        "ax[0].set(title='Learning Curve Accuracy')\n",
        "ax[0].legend()\n",
        "\n",
        "ax[1].plot(epochs, loss, 'orange', label='Training Loss')\n",
        "ax[1].plot(epochs, val_loss, 'b', label='Validation Loss')\n",
        "ax[1].set(title='Learning Curve Loss')\n",
        "ax[1].legend()\n",
        "\n",
        "plt.show()"
      ]
    },
    {
      "cell_type": "code",
      "execution_count": null,
      "metadata": {
        "id": "n4-KSCAb_6Jb",
        "outputId": "698c15f4-2090-445e-8630-8f63e84e6c33"
      },
      "outputs": [
        {
          "name": "stdout",
          "output_type": "stream",
          "text": [
            "150/150 [==============================] - 11s 71ms/step\n"
          ]
        }
      ],
      "source": [
        "dic_y_mapping = {n:label for n,label in\n",
        "                 enumerate(np.unique(img_class_labels))}\n",
        "inverse_dic = {v:k for k,v in dic_y_mapping.items()}\n",
        "predicted_prob = keras_model.predict(tf_test_dataset)\n",
        "tf_label_test = list(map(lambda x: x[1], tf_test_dataset))\n",
        "y_test = [dic_y_mapping[pred[0].numpy()] for pred in tf_label_test]\n",
        "predicted = [dic_y_mapping[np.argmax(pred)] for pred in predicted_prob]"
      ]
    },
    {
      "cell_type": "code",
      "execution_count": null,
      "metadata": {
        "id": "5vv59f1N_6Jc",
        "outputId": "32d7a7f2-26ea-43a9-92bc-c58ad20672a1"
      },
      "outputs": [
        {
          "name": "stdout",
          "output_type": "stream",
          "text": [
            "              precision    recall  f1-score   support\n",
            "\n",
            "    Basophil       1.00      1.00      1.00        30\n",
            "  Eosinophil       0.72      0.97      0.83        30\n",
            "  Lymphocyte       0.93      0.90      0.92        30\n",
            "    Monocyte       1.00      0.97      0.98        30\n",
            "  Neutrophil       1.00      0.73      0.85        30\n",
            "\n",
            "    accuracy                           0.91       150\n",
            "   macro avg       0.93      0.91      0.91       150\n",
            "weighted avg       0.93      0.91      0.91       150\n",
            "\n"
          ]
        },
        {
          "data": {
            "text/plain": [
              "(array([0.5, 1.5, 2.5, 3.5, 4.5]),\n",
              " [Text(0, 0.5, 'Basophil'),\n",
              "  Text(0, 1.5, 'Eosinophil'),\n",
              "  Text(0, 2.5, 'Lymphocyte'),\n",
              "  Text(0, 3.5, 'Monocyte'),\n",
              "  Text(0, 4.5, 'Neutrophil')])"
            ]
          },
          "execution_count": 104,
          "metadata": {},
          "output_type": "execute_result"
        },
        {
          "data": {
            "image/png": "[encoded data removed]",
            "text/plain": [
              "<Figure size 640x480 with 1 Axes>"
            ]
          },
          "metadata": {},
          "output_type": "display_data"
        }
      ],
      "source": [
        "print(metrics.classification_report(y_test, predicted))\n",
        "cm = metrics.confusion_matrix(y_test, predicted)\n",
        "fig, ax = plt.subplots()\n",
        "sns.heatmap(cm, annot=True, fmt='d', ax=ax, cmap=plt.cm.Blues,\n",
        "            cbar=False)\n",
        "ax.set(xlabel=\"Predicted Label\", ylabel=\"Actual Label\", xticklabels=img_class_labels,\n",
        "       yticklabels=img_class_labels, title=\"Confusion matrix\")\n",
        "plt.yticks(rotation=0)"
      ]
    },
    {
      "cell_type": "markdown",
      "metadata": {
        "id": "28vkFnSa_6Jc"
      },
      "source": [
        "# Save Model"
      ]
    },
    {
      "cell_type": "code",
      "execution_count": null,
      "metadata": {
        "id": "vt71NnXF_6Jc",
        "outputId": "178b758d-3c94-4f45-8a2c-3d7b05549993"
      },
      "outputs": [
        {
          "name": "stdout",
          "output_type": "stream",
          "text": [
            "INFO:tensorflow:Assets written to: vit_keras_eph50\\assets\n"
          ]
        },
        {
          "name": "stderr",
          "output_type": "stream",
          "text": [
            "INFO:tensorflow:Assets written to: vit_keras_eph50\\assets\n"
          ]
        }
      ],
      "source": [
        "keras_model.save('vit_keras_eph50.keras')"
      ]
    },
    {
      "cell_type": "markdown",
      "metadata": {
        "id": "5VIq1HbK_6Jc"
      },
      "source": [
        "# Load Model"
      ]
    },
    {
      "cell_type": "code",
      "execution_count": null,
      "metadata": {
        "id": "D1bHW3yJ_6Jc",
        "outputId": "c03b3c68-a376-4d22-d75a-f7436989bfa7"
      },
      "outputs": [
        {
          "name": "stdout",
          "output_type": "stream",
          "text": [
            "WARNING:tensorflow:From c:\\Users\\Andrian Rakhmatsyah\\AppData\\Local\\Programs\\Python\\Python310\\lib\\site-packages\\keras\\src\\saving\\legacy\\saved_model\\load.py:107: The name tf.gfile.Exists is deprecated. Please use tf.io.gfile.exists instead.\n",
            "\n"
          ]
        },
        {
          "name": "stderr",
          "output_type": "stream",
          "text": [
            "WARNING:tensorflow:From c:\\Users\\Andrian Rakhmatsyah\\AppData\\Local\\Programs\\Python\\Python310\\lib\\site-packages\\keras\\src\\saving\\legacy\\saved_model\\load.py:107: The name tf.gfile.Exists is deprecated. Please use tf.io.gfile.exists instead.\n",
            "\n"
          ]
        },
        {
          "name": "stdout",
          "output_type": "stream",
          "text": [
            "Model: \"model\"\n",
            "_________________________________________________________________\n",
            " Layer (type)                Output Shape              Param #   \n",
            "=================================================================\n",
            " pixel_values (InputLayer)   [(None, 3, 224, 224)]     0         \n",
            "                                                                 \n",
            " vit (TFViTMainLayer)        TFBaseModelOutputWithPo   86389248  \n",
            "                             oling(last_hidden_state             \n",
            "                             =(None, 197, 768),                  \n",
            "                              pooler_output=(None, 7             \n",
            "                             68),                                \n",
            "                              hidden_states=None, at             \n",
            "                             tentions=None)                      \n",
            "                                                                 \n",
            " tf.__operators__.getitem (  (None, 768)               0         \n",
            " SlicingOpLambda)                                                \n",
            "                                                                 \n",
            " dense (Dense)               (None, 64)                49216     \n",
            "                                                                 \n",
            " outputs (Dense)             (None, 5)                 325       \n",
            "                                                                 \n",
            "=================================================================\n",
            "Total params: 86438789 (329.74 MB)\n",
            "Trainable params: 49541 (193.52 KB)\n",
            "Non-trainable params: 86389248 (329.55 MB)\n",
            "_________________________________________________________________\n"
          ]
        }
      ],
      "source": [
        "saved_model = tf.keras.models.load_model('vit_keras_eph50.keras')\n",
        "\n",
        "# Show the model architecture\n",
        "saved_model.summary()"
      ]
    },
    {
      "cell_type": "markdown",
      "metadata": {
        "id": "vk0JIbpu_6Jc"
      },
      "source": [
        "# Evaluasi Model"
      ]
    },
    {
      "cell_type": "code",
      "execution_count": null,
      "metadata": {
        "id": "AkYEVJ56_6Jc"
      },
      "outputs": [],
      "source": [
        "def create_image_folder_dataset(root_path):\n",
        "  \"\"\"creates `Dataset` from image folder structure\"\"\"\n",
        "\n",
        "  # get class names by folders names\n",
        "  _CLASS_NAMES= os.listdir(root_path)\n",
        "  # defines `datasets` features`\n",
        "  features=datasets.Features({\n",
        "                      \"img\": datasets.Image(),\n",
        "                      \"label\": datasets.features.ClassLabel(names=_CLASS_NAMES),\n",
        "                  })\n",
        "  # temp list holding datapoints for creation\n",
        "  img_data_files=[]\n",
        "  label_data_files=[]\n",
        "  # load images into list for creation\n",
        "  for img_class in os.listdir(root_path):\n",
        "    for img in os.listdir(os.path.join(root_path,img_class)):\n",
        "      path_=os.path.join(root_path,img_class,img)\n",
        "      img_data_files.append(path_)\n",
        "      label_data_files.append(img_class)\n",
        "  # create dataset\n",
        "  ds = datasets.Dataset.from_dict({\"img\":img_data_files,\"label\":label_data_files},features=features)\n",
        "  return ds\n",
        "\n",
        "dataset_test = create_image_folder_dataset(r\"D:\\experimen\\datasetvit\\test\")"
      ]
    },
    {
      "cell_type": "code",
      "execution_count": null,
      "metadata": {
        "id": "Qpnc4BKa_6Jc"
      },
      "outputs": [],
      "source": [
        "feature_extractor = ViTFeatureExtractor.from_pretrained(\"google/vit-base-patch16-224\")\n",
        "\n",
        "# basic processing (only resizing)\n",
        "def process(examples):\n",
        "    examples.update(feature_extractor(examples['img'], ))\n",
        "    return examples\n",
        "\n",
        "dataset_test = dataset_test.rename_column(\"label\", \"labels\")"
      ]
    },
    {
      "cell_type": "code",
      "execution_count": null,
      "metadata": {
        "id": "PgPFv9eY_6Jd"
      },
      "outputs": [],
      "source": [
        "processed_dataset_test = dataset_test.map(process, batched=True)\n",
        "tf_test_dataset = processed_dataset_test.to_tf_dataset(\n",
        "   columns=['pixel_values'],\n",
        "   label_cols=[\"labels\"],\n",
        "   shuffle=False,\n",
        "   batch_size=1,\n",
        "   collate_fn=data_collator)"
      ]
    },
    {
      "cell_type": "code",
      "execution_count": null,
      "metadata": {
        "id": "futaa6ib_6Jd"
      },
      "outputs": [],
      "source": [
        "img_class_labels = dataset_train.features[\"label\"].names\n",
        "img_class_labels"
      ]
    },
    {
      "cell_type": "code",
      "execution_count": null,
      "metadata": {
        "id": "Fh80K4dy_6Jd",
        "outputId": "e93a42b4-a0b7-459d-eb60-9ef85b93b882"
      },
      "outputs": [
        {
          "name": "stdout",
          "output_type": "stream",
          "text": [
            "150/150 [==============================] - 11s 72ms/step\n"
          ]
        }
      ],
      "source": [
        "dic_y_mapping = {n:label for n,label in\n",
        "                 enumerate(np.unique(img_class_labels))}\n",
        "inverse_dic = {v:k for k,v in dic_y_mapping.items()}\n",
        "predicted_prob = saved_model.predict(tf_test_dataset)\n",
        "tf_label_test = list(map(lambda x: x[1], tf_test_dataset))\n",
        "y_test = [dic_y_mapping[pred[0].numpy()] for pred in tf_label_test]\n",
        "predicted = [dic_y_mapping[np.argmax(pred)] for pred in predicted_prob]"
      ]
    },
    {
      "cell_type": "code",
      "execution_count": null,
      "metadata": {
        "id": "yAwqFvQt_6Jd",
        "outputId": "422473c4-a2d9-4520-bbec-8546ae601a28"
      },
      "outputs": [
        {
          "name": "stdout",
          "output_type": "stream",
          "text": [
            "              precision    recall  f1-score   support\n",
            "\n",
            "    Basophil       1.00      1.00      1.00        30\n",
            "  Eosinophil       0.72      0.97      0.83        30\n",
            "  Lymphocyte       0.93      0.90      0.92        30\n",
            "    Monocyte       1.00      0.97      0.98        30\n",
            "  Neutrophil       1.00      0.73      0.85        30\n",
            "\n",
            "    accuracy                           0.91       150\n",
            "   macro avg       0.93      0.91      0.91       150\n",
            "weighted avg       0.93      0.91      0.91       150\n",
            "\n"
          ]
        },
        {
          "data": {
            "text/plain": [
              "(array([0.5, 1.5, 2.5, 3.5, 4.5]),\n",
              " [Text(0, 0.5, 'Basophil'),\n",
              "  Text(0, 1.5, 'Eosinophil'),\n",
              "  Text(0, 2.5, 'Lymphocyte'),\n",
              "  Text(0, 3.5, 'Monocyte'),\n",
              "  Text(0, 4.5, 'Neutrophil')])"
            ]
          },
          "execution_count": 106,
          "metadata": {},
          "output_type": "execute_result"
        },
        {
          "data": {
            "image/png": "[encoded data removed]",
            "text/plain": [
              "<Figure size 640x480 with 1 Axes>"
            ]
          },
          "metadata": {},
          "output_type": "display_data"
        }
      ],
      "source": [
        "print(metrics.classification_report(y_test, predicted))\n",
        "cm = metrics.confusion_matrix(y_test, predicted)\n",
        "fig, ax = plt.subplots()\n",
        "sns.heatmap(cm, annot=True, fmt='d', ax=ax, cmap=plt.cm.Blues,\n",
        "            cbar=False)\n",
        "ax.set(xlabel=\"Predicted Label\", ylabel=\"Actual Label\", xticklabels=img_class_labels,\n",
        "       yticklabels=img_class_labels, title=\"Confusion matrix\")\n",
        "plt.yticks(rotation=0)"
      ]
    },
    {
      "cell_type": "markdown",
      "metadata": {
        "id": "vEtCWVzu_6Je"
      },
      "source": [
        "# Pembuatan Model VIT (100 epoch)"
      ]
    },
    {
      "cell_type": "code",
      "execution_count": null,
      "metadata": {
        "id": "DesdfyNQ_6Je",
        "outputId": "9f4535dc-3593-4bd1-9ef1-d724f9add974"
      },
      "outputs": [
        {
          "name": "stdout",
          "output_type": "stream",
          "text": [
            "WARNING:tensorflow:From c:\\Users\\Andrian Rakhmatsyah\\AppData\\Local\\Programs\\Python\\Python310\\lib\\site-packages\\keras\\src\\backend.py:873: The name tf.get_default_graph is deprecated. Please use tf.compat.v1.get_default_graph instead.\n",
            "\n"
          ]
        },
        {
          "name": "stderr",
          "output_type": "stream",
          "text": [
            "All model checkpoint layers were used when initializing TFViTModel.\n",
            "\n",
            "All the layers of TFViTModel were initialized from the model checkpoint at google/vit-base-patch16-224-in21k.\n",
            "If your task is similar to the task the model of the checkpoint was trained on, you can already use TFViTModel for predictions without further training.\n"
          ]
        },
        {
          "name": "stdout",
          "output_type": "stream",
          "text": [
            "WARNING:tensorflow:From c:\\Users\\Andrian Rakhmatsyah\\AppData\\Local\\Programs\\Python\\Python310\\lib\\site-packages\\keras\\src\\optimizers\\__init__.py:309: The name tf.train.Optimizer is deprecated. Please use tf.compat.v1.train.Optimizer instead.\n",
            "\n",
            "Model: \"model\"\n",
            "_________________________________________________________________\n",
            " Layer (type)                Output Shape              Param #   \n",
            "=================================================================\n",
            " pixel_values (InputLayer)   [(None, 3, 224, 224)]     0         \n",
            "                                                                 \n",
            " vit (TFViTMainLayer)        TFBaseModelOutputWithPo   86389248  \n",
            "                             oling(last_hidden_state             \n",
            "                             =(None, 197, 768),                  \n",
            "                              pooler_output=(None, 7             \n",
            "                             68),                                \n",
            "                              hidden_states=None, at             \n",
            "                             tentions=None)                      \n",
            "                                                                 \n",
            " tf.__operators__.getitem (  (None, 768)               0         \n",
            " SlicingOpLambda)                                                \n",
            "                                                                 \n",
            " dense (Dense)               (None, 64)                49216     \n",
            "                                                                 \n",
            " outputs (Dense)             (None, 5)                 325       \n",
            "                                                                 \n",
            "=================================================================\n",
            "Total params: 86438789 (329.74 MB)\n",
            "Trainable params: 49541 (193.52 KB)\n",
            "Non-trainable params: 86389248 (329.55 MB)\n",
            "_________________________________________________________________\n"
          ]
        }
      ],
      "source": [
        "base_model = TFViTModel.from_pretrained('google/vit-base-patch16-224-in21k')\n",
        "\n",
        "# augmentation = keras.Sequential([\n",
        "#     Resizing(224, 224),\n",
        "#     Rescaling(1.0/255),\n",
        "#     Permute((3, 1, 2))\n",
        "# ])\n",
        "\n",
        "\n",
        "# inputs\n",
        "pixel_values = Input(shape=(3,224,224), name='pixel_values', dtype='float32')\n",
        "\n",
        "# model layer\n",
        "vit = base_model.vit(pixel_values)[0][:, 0, :]\n",
        "x = Dense(64, activation=\"relu\")(vit)\n",
        "classifier = Dense(len(img_class_labels), activation='softmax', name='outputs')(x)\n",
        "\n",
        "# model\n",
        "keras_model = tf.keras.Model(inputs=pixel_values, outputs=classifier)\n",
        "for layer in keras_model.layers[:2]:\n",
        "    layer.trainable = False\n",
        "# compile\n",
        "keras_model.compile(loss='sparse_categorical_crossentropy', optimizer='adam', metrics=['accuracy'])\n",
        "keras_model.summary()"
      ]
    },
    {
      "cell_type": "code",
      "execution_count": null,
      "metadata": {
        "id": "TxSC_LiD_6Je",
        "outputId": "75de2392-324d-4b43-f32f-b3a8df562964"
      },
      "outputs": [
        {
          "name": "stdout",
          "output_type": "stream",
          "text": [
            "Epoch 1/100\n",
            "WARNING:tensorflow:From c:\\Users\\Andrian Rakhmatsyah\\AppData\\Local\\Programs\\Python\\Python310\\lib\\site-packages\\keras\\src\\utils\\tf_utils.py:492: The name tf.ragged.RaggedTensorValue is deprecated. Please use tf.compat.v1.ragged.RaggedTensorValue instead.\n",
            "\n",
            "WARNING:tensorflow:From c:\\Users\\Andrian Rakhmatsyah\\AppData\\Local\\Programs\\Python\\Python310\\lib\\site-packages\\keras\\src\\engine\\base_layer_utils.py:384: The name tf.executing_eagerly_outside_functions is deprecated. Please use tf.compat.v1.executing_eagerly_outside_functions instead.\n",
            "\n",
            "32/32 [==============================] - 50s 1s/step - loss: 1.2721 - accuracy: 0.6210 - val_loss: 0.8652 - val_accuracy: 0.7680\n",
            "Epoch 2/100\n",
            "32/32 [==============================] - 46s 1s/step - loss: 0.7976 - accuracy: 0.7860 - val_loss: 0.6065 - val_accuracy: 0.8360\n",
            "Epoch 3/100\n",
            "32/32 [==============================] - 45s 1s/step - loss: 0.5941 - accuracy: 0.8420 - val_loss: 0.4782 - val_accuracy: 0.8520\n",
            "Epoch 4/100\n",
            "32/32 [==============================] - 46s 1s/step - loss: 0.5032 - accuracy: 0.8440 - val_loss: 0.4357 - val_accuracy: 0.8560\n",
            "Epoch 5/100\n",
            "32/32 [==============================] - 46s 1s/step - loss: 0.4359 - accuracy: 0.8670 - val_loss: 0.3832 - val_accuracy: 0.8880\n",
            "Epoch 6/100\n",
            "32/32 [==============================] - 47s 1s/step - loss: 0.3898 - accuracy: 0.8900 - val_loss: 0.3639 - val_accuracy: 0.8880\n",
            "Epoch 7/100\n",
            "32/32 [==============================] - 47s 1s/step - loss: 0.3405 - accuracy: 0.9120 - val_loss: 0.4098 - val_accuracy: 0.8600\n",
            "Epoch 8/100\n",
            "32/32 [==============================] - 46s 1s/step - loss: 0.3154 - accuracy: 0.9120 - val_loss: 0.3101 - val_accuracy: 0.9040\n",
            "Epoch 9/100\n",
            "32/32 [==============================] - 46s 1s/step - loss: 0.2949 - accuracy: 0.9220 - val_loss: 0.3536 - val_accuracy: 0.8800\n",
            "Epoch 10/100\n",
            "32/32 [==============================] - 47s 1s/step - loss: 0.2697 - accuracy: 0.9230 - val_loss: 0.3087 - val_accuracy: 0.9000\n",
            "Epoch 11/100\n",
            "32/32 [==============================] - 46s 1s/step - loss: 0.2434 - accuracy: 0.9320 - val_loss: 0.3228 - val_accuracy: 0.8880\n",
            "Epoch 12/100\n",
            "32/32 [==============================] - 95s 3s/step - loss: 0.2263 - accuracy: 0.9410 - val_loss: 0.2661 - val_accuracy: 0.9000\n",
            "Epoch 13/100\n",
            "32/32 [==============================] - 108s 3s/step - loss: 0.2198 - accuracy: 0.9350 - val_loss: 0.3450 - val_accuracy: 0.8920\n",
            "Epoch 14/100\n",
            "32/32 [==============================] - 109s 3s/step - loss: 0.1970 - accuracy: 0.9440 - val_loss: 0.4251 - val_accuracy: 0.8360\n",
            "Epoch 15/100\n",
            "32/32 [==============================] - 109s 3s/step - loss: 0.2012 - accuracy: 0.9340 - val_loss: 0.2426 - val_accuracy: 0.9160\n",
            "Epoch 16/100\n",
            "32/32 [==============================] - 62s 2s/step - loss: 0.1779 - accuracy: 0.9510 - val_loss: 0.2890 - val_accuracy: 0.9000\n",
            "Epoch 17/100\n",
            "32/32 [==============================] - 44s 1s/step - loss: 0.1693 - accuracy: 0.9620 - val_loss: 0.2381 - val_accuracy: 0.9240\n",
            "Epoch 18/100\n",
            "32/32 [==============================] - 44s 1s/step - loss: 0.1578 - accuracy: 0.9580 - val_loss: 0.2747 - val_accuracy: 0.9040\n",
            "Epoch 19/100\n",
            "32/32 [==============================] - 45s 1s/step - loss: 0.1513 - accuracy: 0.9660 - val_loss: 0.2927 - val_accuracy: 0.9000\n",
            "Epoch 20/100\n",
            "32/32 [==============================] - 45s 1s/step - loss: 0.1437 - accuracy: 0.9590 - val_loss: 0.2859 - val_accuracy: 0.9000\n",
            "Epoch 21/100\n",
            "32/32 [==============================] - 45s 1s/step - loss: 0.1348 - accuracy: 0.9700 - val_loss: 0.2389 - val_accuracy: 0.9120\n",
            "Epoch 22/100\n",
            "32/32 [==============================] - 45s 1s/step - loss: 0.1305 - accuracy: 0.9670 - val_loss: 0.2308 - val_accuracy: 0.9200\n",
            "Epoch 23/100\n",
            "32/32 [==============================] - 45s 1s/step - loss: 0.1231 - accuracy: 0.9700 - val_loss: 0.2418 - val_accuracy: 0.9200\n",
            "Epoch 24/100\n",
            "32/32 [==============================] - 45s 1s/step - loss: 0.1155 - accuracy: 0.9720 - val_loss: 0.2749 - val_accuracy: 0.9080\n",
            "Epoch 25/100\n",
            "32/32 [==============================] - 47s 1s/step - loss: 0.1172 - accuracy: 0.9720 - val_loss: 0.2068 - val_accuracy: 0.9320\n",
            "Epoch 26/100\n",
            "32/32 [==============================] - 47s 1s/step - loss: 0.1055 - accuracy: 0.9730 - val_loss: 0.1904 - val_accuracy: 0.9360\n",
            "Epoch 27/100\n",
            "32/32 [==============================] - 46s 1s/step - loss: 0.1018 - accuracy: 0.9790 - val_loss: 0.2493 - val_accuracy: 0.9200\n",
            "Epoch 28/100\n",
            "32/32 [==============================] - 46s 1s/step - loss: 0.0958 - accuracy: 0.9740 - val_loss: 0.3067 - val_accuracy: 0.9000\n",
            "Epoch 29/100\n",
            "32/32 [==============================] - 46s 1s/step - loss: 0.0954 - accuracy: 0.9770 - val_loss: 0.2015 - val_accuracy: 0.9400\n",
            "Epoch 30/100\n",
            "32/32 [==============================] - 46s 1s/step - loss: 0.0889 - accuracy: 0.9750 - val_loss: 0.2225 - val_accuracy: 0.9240\n",
            "Epoch 31/100\n",
            "32/32 [==============================] - 46s 1s/step - loss: 0.0831 - accuracy: 0.9850 - val_loss: 0.2067 - val_accuracy: 0.9320\n",
            "Epoch 32/100\n",
            "32/32 [==============================] - 46s 1s/step - loss: 0.0819 - accuracy: 0.9850 - val_loss: 0.2648 - val_accuracy: 0.9120\n",
            "Epoch 33/100\n",
            "32/32 [==============================] - 46s 1s/step - loss: 0.0822 - accuracy: 0.9850 - val_loss: 0.2498 - val_accuracy: 0.9080\n",
            "Epoch 34/100\n",
            "32/32 [==============================] - 46s 1s/step - loss: 0.0753 - accuracy: 0.9840 - val_loss: 0.1984 - val_accuracy: 0.9360\n",
            "Epoch 35/100\n",
            "32/32 [==============================] - 46s 1s/step - loss: 0.0782 - accuracy: 0.9820 - val_loss: 0.2173 - val_accuracy: 0.9320\n",
            "Epoch 36/100\n",
            "32/32 [==============================] - 45s 1s/step - loss: 0.0765 - accuracy: 0.9800 - val_loss: 0.2061 - val_accuracy: 0.9280\n",
            "Epoch 37/100\n",
            "32/32 [==============================] - 45s 1s/step - loss: 0.0644 - accuracy: 0.9890 - val_loss: 0.2078 - val_accuracy: 0.9320\n",
            "Epoch 38/100\n",
            "32/32 [==============================] - 46s 1s/step - loss: 0.0627 - accuracy: 0.9880 - val_loss: 0.2539 - val_accuracy: 0.9200\n",
            "Epoch 39/100\n",
            "32/32 [==============================] - 46s 1s/step - loss: 0.0592 - accuracy: 0.9920 - val_loss: 0.2384 - val_accuracy: 0.9240\n",
            "Epoch 40/100\n",
            "32/32 [==============================] - 45s 1s/step - loss: 0.0627 - accuracy: 0.9880 - val_loss: 0.2325 - val_accuracy: 0.9280\n",
            "Epoch 41/100\n",
            "32/32 [==============================] - 46s 1s/step - loss: 0.0549 - accuracy: 0.9970 - val_loss: 0.1910 - val_accuracy: 0.9280\n",
            "Epoch 42/100\n",
            "32/32 [==============================] - 49s 2s/step - loss: 0.0550 - accuracy: 0.9910 - val_loss: 0.2244 - val_accuracy: 0.9240\n",
            "Epoch 43/100\n",
            "32/32 [==============================] - 69s 2s/step - loss: 0.0515 - accuracy: 0.9930 - val_loss: 0.1960 - val_accuracy: 0.9400\n",
            "Epoch 44/100\n",
            "32/32 [==============================] - 70s 2s/step - loss: 0.0511 - accuracy: 0.9930 - val_loss: 0.2292 - val_accuracy: 0.9280\n",
            "Epoch 45/100\n",
            "32/32 [==============================] - 97s 3s/step - loss: 0.0468 - accuracy: 0.9980 - val_loss: 0.1937 - val_accuracy: 0.9400\n",
            "Epoch 46/100\n",
            "32/32 [==============================] - 80s 2s/step - loss: 0.0449 - accuracy: 0.9980 - val_loss: 0.2016 - val_accuracy: 0.9360\n",
            "Epoch 47/100\n",
            "32/32 [==============================] - 67s 2s/step - loss: 0.0434 - accuracy: 0.9970 - val_loss: 0.2169 - val_accuracy: 0.9320\n",
            "Epoch 48/100\n",
            "32/32 [==============================] - 45s 1s/step - loss: 0.0401 - accuracy: 0.9970 - val_loss: 0.2202 - val_accuracy: 0.9240\n",
            "Epoch 49/100\n",
            "32/32 [==============================] - 45s 1s/step - loss: 0.0400 - accuracy: 0.9970 - val_loss: 0.2103 - val_accuracy: 0.9200\n",
            "Epoch 50/100\n",
            "32/32 [==============================] - 45s 1s/step - loss: 0.0393 - accuracy: 0.9950 - val_loss: 0.2273 - val_accuracy: 0.9240\n",
            "Epoch 51/100\n",
            "32/32 [==============================] - 45s 1s/step - loss: 0.0405 - accuracy: 0.9940 - val_loss: 0.2672 - val_accuracy: 0.9200\n",
            "Epoch 52/100\n",
            "32/32 [==============================] - 45s 1s/step - loss: 0.0428 - accuracy: 0.9940 - val_loss: 0.2093 - val_accuracy: 0.9360\n",
            "Epoch 53/100\n",
            "32/32 [==============================] - 45s 1s/step - loss: 0.0342 - accuracy: 0.9990 - val_loss: 0.2177 - val_accuracy: 0.9360\n",
            "Epoch 54/100\n",
            "32/32 [==============================] - 45s 1s/step - loss: 0.0343 - accuracy: 1.0000 - val_loss: 0.2320 - val_accuracy: 0.9320\n",
            "Epoch 55/100\n",
            "32/32 [==============================] - 45s 1s/step - loss: 0.0331 - accuracy: 0.9990 - val_loss: 0.2458 - val_accuracy: 0.9160\n",
            "Epoch 56/100\n",
            "32/32 [==============================] - 45s 1s/step - loss: 0.0361 - accuracy: 0.9950 - val_loss: 0.1955 - val_accuracy: 0.9280\n",
            "Epoch 57/100\n",
            "32/32 [==============================] - 45s 1s/step - loss: 0.0332 - accuracy: 0.9980 - val_loss: 0.2193 - val_accuracy: 0.9320\n",
            "Epoch 58/100\n",
            "32/32 [==============================] - 45s 1s/step - loss: 0.0283 - accuracy: 0.9970 - val_loss: 0.2017 - val_accuracy: 0.9400\n",
            "Epoch 59/100\n",
            "32/32 [==============================] - 46s 1s/step - loss: 0.0266 - accuracy: 1.0000 - val_loss: 0.2348 - val_accuracy: 0.9240\n",
            "Epoch 60/100\n",
            "32/32 [==============================] - 45s 1s/step - loss: 0.0263 - accuracy: 1.0000 - val_loss: 0.2215 - val_accuracy: 0.9320\n",
            "Epoch 61/100\n",
            "32/32 [==============================] - 46s 1s/step - loss: 0.0238 - accuracy: 0.9990 - val_loss: 0.2060 - val_accuracy: 0.9360\n",
            "Epoch 62/100\n",
            "32/32 [==============================] - 45s 1s/step - loss: 0.0252 - accuracy: 1.0000 - val_loss: 0.1836 - val_accuracy: 0.9360\n",
            "Epoch 63/100\n",
            "32/32 [==============================] - 45s 1s/step - loss: 0.0230 - accuracy: 1.0000 - val_loss: 0.1864 - val_accuracy: 0.9360\n",
            "Epoch 64/100\n",
            "32/32 [==============================] - 45s 1s/step - loss: 0.0249 - accuracy: 0.9990 - val_loss: 0.1988 - val_accuracy: 0.9360\n",
            "Epoch 65/100\n",
            "32/32 [==============================] - 47s 1s/step - loss: 0.0212 - accuracy: 0.9990 - val_loss: 0.2159 - val_accuracy: 0.9360\n",
            "Epoch 66/100\n",
            "32/32 [==============================] - 48s 1s/step - loss: 0.0210 - accuracy: 1.0000 - val_loss: 0.2101 - val_accuracy: 0.9360\n",
            "Epoch 67/100\n",
            "32/32 [==============================] - 46s 1s/step - loss: 0.0207 - accuracy: 1.0000 - val_loss: 0.1925 - val_accuracy: 0.9400\n",
            "Epoch 68/100\n",
            "32/32 [==============================] - 46s 1s/step - loss: 0.0205 - accuracy: 1.0000 - val_loss: 0.2168 - val_accuracy: 0.9400\n",
            "Epoch 69/100\n",
            "32/32 [==============================] - 46s 1s/step - loss: 0.0208 - accuracy: 1.0000 - val_loss: 0.2304 - val_accuracy: 0.9320\n",
            "Epoch 70/100\n",
            "32/32 [==============================] - 45s 1s/step - loss: 0.0177 - accuracy: 1.0000 - val_loss: 0.2187 - val_accuracy: 0.9400\n",
            "Epoch 71/100\n",
            "32/32 [==============================] - 45s 1s/step - loss: 0.0175 - accuracy: 1.0000 - val_loss: 0.2288 - val_accuracy: 0.9320\n",
            "Epoch 72/100\n",
            "32/32 [==============================] - 48s 1s/step - loss: 0.0169 - accuracy: 1.0000 - val_loss: 0.2408 - val_accuracy: 0.9320\n",
            "Epoch 73/100\n",
            "32/32 [==============================] - 45s 1s/step - loss: 0.0163 - accuracy: 1.0000 - val_loss: 0.2195 - val_accuracy: 0.9360\n",
            "Epoch 74/100\n",
            "32/32 [==============================] - 45s 1s/step - loss: 0.0154 - accuracy: 1.0000 - val_loss: 0.2088 - val_accuracy: 0.9400\n",
            "Epoch 75/100\n",
            "32/32 [==============================] - 45s 1s/step - loss: 0.0144 - accuracy: 1.0000 - val_loss: 0.2111 - val_accuracy: 0.9360\n",
            "Epoch 76/100\n",
            "32/32 [==============================] - 45s 1s/step - loss: 0.0147 - accuracy: 1.0000 - val_loss: 0.2047 - val_accuracy: 0.9360\n",
            "Epoch 77/100\n",
            "32/32 [==============================] - 45s 1s/step - loss: 0.0140 - accuracy: 1.0000 - val_loss: 0.2444 - val_accuracy: 0.9320\n",
            "Epoch 78/100\n",
            "32/32 [==============================] - 47s 1s/step - loss: 0.0140 - accuracy: 1.0000 - val_loss: 0.2105 - val_accuracy: 0.9400\n",
            "Epoch 79/100\n",
            "32/32 [==============================] - 47s 1s/step - loss: 0.0139 - accuracy: 1.0000 - val_loss: 0.2120 - val_accuracy: 0.9400\n",
            "Epoch 80/100\n",
            "32/32 [==============================] - 46s 1s/step - loss: 0.0157 - accuracy: 0.9990 - val_loss: 0.2188 - val_accuracy: 0.9400\n",
            "Epoch 81/100\n",
            "32/32 [==============================] - 46s 1s/step - loss: 0.0130 - accuracy: 1.0000 - val_loss: 0.2491 - val_accuracy: 0.9320\n",
            "Epoch 82/100\n",
            "32/32 [==============================] - 46s 1s/step - loss: 0.0119 - accuracy: 1.0000 - val_loss: 0.1954 - val_accuracy: 0.9360\n",
            "Epoch 83/100\n",
            "32/32 [==============================] - 45s 1s/step - loss: 0.0143 - accuracy: 1.0000 - val_loss: 0.2355 - val_accuracy: 0.9320\n",
            "Epoch 84/100\n",
            "32/32 [==============================] - 45s 1s/step - loss: 0.0147 - accuracy: 0.9990 - val_loss: 0.2206 - val_accuracy: 0.9360\n",
            "Epoch 85/100\n",
            "32/32 [==============================] - 45s 1s/step - loss: 0.0111 - accuracy: 1.0000 - val_loss: 0.2041 - val_accuracy: 0.9440\n",
            "Epoch 86/100\n",
            "32/32 [==============================] - 45s 1s/step - loss: 0.0109 - accuracy: 1.0000 - val_loss: 0.2173 - val_accuracy: 0.9360\n",
            "Epoch 87/100\n",
            "32/32 [==============================] - 45s 1s/step - loss: 0.0115 - accuracy: 1.0000 - val_loss: 0.2421 - val_accuracy: 0.9320\n",
            "Epoch 88/100\n",
            "32/32 [==============================] - 46s 1s/step - loss: 0.0112 - accuracy: 1.0000 - val_loss: 0.2465 - val_accuracy: 0.9360\n",
            "Epoch 89/100\n",
            "32/32 [==============================] - 45s 1s/step - loss: 0.0098 - accuracy: 1.0000 - val_loss: 0.2194 - val_accuracy: 0.9360\n",
            "Epoch 90/100\n",
            "32/32 [==============================] - 45s 1s/step - loss: 0.0105 - accuracy: 1.0000 - val_loss: 0.2336 - val_accuracy: 0.9360\n",
            "Epoch 91/100\n",
            "32/32 [==============================] - 45s 1s/step - loss: 0.0094 - accuracy: 1.0000 - val_loss: 0.2171 - val_accuracy: 0.9400\n",
            "Epoch 92/100\n",
            "32/32 [==============================] - 45s 1s/step - loss: 0.0089 - accuracy: 1.0000 - val_loss: 0.2134 - val_accuracy: 0.9400\n",
            "Epoch 93/100\n",
            "32/32 [==============================] - 45s 1s/step - loss: 0.0083 - accuracy: 1.0000 - val_loss: 0.2170 - val_accuracy: 0.9400\n",
            "Epoch 94/100\n",
            "32/32 [==============================] - 46s 1s/step - loss: 0.0084 - accuracy: 1.0000 - val_loss: 0.2208 - val_accuracy: 0.9400\n",
            "Epoch 95/100\n",
            "32/32 [==============================] - 46s 1s/step - loss: 0.0080 - accuracy: 1.0000 - val_loss: 0.1885 - val_accuracy: 0.9400\n",
            "Epoch 96/100\n",
            "32/32 [==============================] - 45s 1s/step - loss: 0.0079 - accuracy: 1.0000 - val_loss: 0.2168 - val_accuracy: 0.9400\n",
            "Epoch 97/100\n",
            "32/32 [==============================] - 45s 1s/step - loss: 0.0089 - accuracy: 1.0000 - val_loss: 0.1988 - val_accuracy: 0.9400\n",
            "Epoch 98/100\n",
            "32/32 [==============================] - 45s 1s/step - loss: 0.0078 - accuracy: 1.0000 - val_loss: 0.2177 - val_accuracy: 0.9400\n",
            "Epoch 99/100\n",
            "32/32 [==============================] - 45s 1s/step - loss: 0.0072 - accuracy: 1.0000 - val_loss: 0.2341 - val_accuracy: 0.9360\n",
            "Epoch 100/100\n",
            "32/32 [==============================] - 45s 1s/step - loss: 0.0067 - accuracy: 1.0000 - val_loss: 0.2103 - val_accuracy: 0.9440\n"
          ]
        }
      ],
      "source": [
        "train_results = keras_model.fit(\n",
        "    tf_train_dataset,\n",
        "    validation_data=tf_valid_dataset,\n",
        "    epochs=100,\n",
        "    verbose=1\n",
        ")"
      ]
    },
    {
      "cell_type": "code",
      "execution_count": null,
      "metadata": {
        "id": "Sy7CnSXL_6Jf",
        "outputId": "4edd9e39-ad13-4d41-c932-0176c4572431"
      },
      "outputs": [
        {
          "data": {
            "image/png": "[encoded data removed]",
            "text/plain": [
              "<Figure size 1000x1000 with 2 Axes>"
            ]
          },
          "metadata": {},
          "output_type": "display_data"
        }
      ],
      "source": [
        "acc = train_results.history['accuracy']\n",
        "val_acc = train_results.history['val_accuracy']\n",
        "loss = train_results.history['loss']\n",
        "val_loss = train_results.history['val_loss']\n",
        "\n",
        "epochs = range(len(acc))\n",
        "\n",
        "fig, ax = plt.subplots (nrows=2, ncols=1, sharey=True, figsize=(10, 10))\n",
        "\n",
        "ax[0].plot(epochs, acc, 'orange', label='Training accuracy')\n",
        "ax[0].plot(epochs, val_acc, 'b', label='Validation accuracy')\n",
        "ax[0].set(title='Learning Curve Accuracy')\n",
        "ax[0].legend()\n",
        "\n",
        "ax[1].plot(epochs, loss, 'orange', label='Training Loss')\n",
        "ax[1].plot(epochs, val_loss, 'b', label='Validation Loss')\n",
        "ax[1].set(title='Learning Curve Loss')\n",
        "ax[1].legend()\n",
        "\n",
        "plt.show()"
      ]
    },
    {
      "cell_type": "code",
      "execution_count": null,
      "metadata": {
        "id": "1JT0dgpb_6Jf",
        "outputId": "7a7f9eb0-13ef-4534-90e9-3e05b762ef27"
      },
      "outputs": [
        {
          "name": "stdout",
          "output_type": "stream",
          "text": [
            "150/150 [==============================] - 11s 66ms/step\n"
          ]
        }
      ],
      "source": [
        "dic_y_mapping = {n:label for n,label in\n",
        "                 enumerate(np.unique(img_class_labels))}\n",
        "inverse_dic = {v:k for k,v in dic_y_mapping.items()}\n",
        "predicted_prob = keras_model.predict(tf_test_dataset)\n",
        "tf_label_test = list(map(lambda x: x[1], tf_test_dataset))\n",
        "y_test = [dic_y_mapping[pred[0].numpy()] for pred in tf_label_test]\n",
        "predicted = [dic_y_mapping[np.argmax(pred)] for pred in predicted_prob]"
      ]
    },
    {
      "cell_type": "code",
      "execution_count": null,
      "metadata": {
        "id": "TjKZusHs_6Jf",
        "outputId": "d06ed56e-3535-4977-e9b2-4bd727469bd3"
      },
      "outputs": [
        {
          "name": "stdout",
          "output_type": "stream",
          "text": [
            "              precision    recall  f1-score   support\n",
            "\n",
            "    Basophil       1.00      1.00      1.00        30\n",
            "  Eosinophil       0.81      1.00      0.90        30\n",
            "  Lymphocyte       0.97      0.93      0.95        30\n",
            "    Monocyte       1.00      0.97      0.98        30\n",
            "  Neutrophil       1.00      0.83      0.91        30\n",
            "\n",
            "    accuracy                           0.95       150\n",
            "   macro avg       0.96      0.95      0.95       150\n",
            "weighted avg       0.96      0.95      0.95       150\n",
            "\n"
          ]
        },
        {
          "data": {
            "text/plain": [
              "(array([0.5, 1.5, 2.5, 3.5, 4.5]),\n",
              " [Text(0, 0.5, 'Basophil'),\n",
              "  Text(0, 1.5, 'Eosinophil'),\n",
              "  Text(0, 2.5, 'Lymphocyte'),\n",
              "  Text(0, 3.5, 'Monocyte'),\n",
              "  Text(0, 4.5, 'Neutrophil')])"
            ]
          },
          "execution_count": 13,
          "metadata": {},
          "output_type": "execute_result"
        },
        {
          "data": {
            "image/png": "[encoded data removed]",
            "text/plain": [
              "<Figure size 640x480 with 1 Axes>"
            ]
          },
          "metadata": {},
          "output_type": "display_data"
        }
      ],
      "source": [
        "print(metrics.classification_report(y_test, predicted))\n",
        "cm = metrics.confusion_matrix(y_test, predicted)\n",
        "fig, ax = plt.subplots()\n",
        "sns.heatmap(cm, annot=True, fmt='d', ax=ax, cmap=plt.cm.Blues,\n",
        "            cbar=False)\n",
        "ax.set(xlabel=\"Predicted Label\", ylabel=\"Actual Label\", xticklabels=img_class_labels,\n",
        "       yticklabels=img_class_labels, title=\"Confusion matrix\")\n",
        "plt.yticks(rotation=0)"
      ]
    },
    {
      "cell_type": "code",
      "execution_count": null,
      "metadata": {
        "id": "_qOKWjtO_6Jf"
      },
      "outputs": [],
      "source": [
        "keras_model.save('vit_keras_eph100.keras')"
      ]
    }
  ],
  "metadata": {
    "accelerator": "GPU",
    "colab": {
      "gpuType": "T4",
      "provenance": []
    },
    "kernelspec": {
      "display_name": "Python 3",
      "name": "python3"
    },
    "language_info": {
      "codemirror_mode": {
        "name": "ipython",
        "version": 3
      },
      "file_extension": ".py",
      "mimetype": "text/x-python",
      "name": "python",
      "nbconvert_exporter": "python",
      "pygments_lexer": "ipython3",
      "version": "3.10.11"
    },
    "widgets": {
      "application/vnd.jupyter.widget-state+json": {
        "08e08f04306c4416bf52306632ed59ec": {
          "model_module": "@jupyter-widgets/controls",
          "model_module_version": "1.5.0",
          "model_name": "HBoxModel",
          "state": {
            "_dom_classes": [],
            "_model_module": "@jupyter-widgets/controls",
            "_model_module_version": "1.5.0",
            "_model_name": "HBoxModel",
            "_view_count": null,
            "_view_module": "@jupyter-widgets/controls",
            "_view_module_version": "1.5.0",
            "_view_name": "HBoxView",
            "box_style": "",
            "children": [
              "IPY_MODEL_5616131119b14d28b5ed520fad858dc5",
              "IPY_MODEL_0c56237eebca4663b07525e49f13460c",
              "IPY_MODEL_5bbedd37bd9e448389c4af101c761223"
            ],
            "layout": "IPY_MODEL_4ed488c6f8934e07bb4d0cb899e9512d"
          }
        },
        "0c56237eebca4663b07525e49f13460c": {
          "model_module": "@jupyter-widgets/controls",
          "model_module_version": "1.5.0",
          "model_name": "FloatProgressModel",
          "state": {
            "_dom_classes": [],
            "_model_module": "@jupyter-widgets/controls",
            "_model_module_version": "1.5.0",
            "_model_name": "FloatProgressModel",
            "_view_count": null,
            "_view_module": "@jupyter-widgets/controls",
            "_view_module_version": "1.5.0",
            "_view_name": "ProgressView",
            "bar_style": "success",
            "description": "",
            "description_tooltip": null,
            "layout": "IPY_MODEL_fe62e91880a749e1a9c78186161b61f0",
            "max": 1000,
            "min": 0,
            "orientation": "horizontal",
            "style": "IPY_MODEL_e473dde53c644a22b614a2c237c80af5",
            "value": 1000
          }
        },
        "131cacd35e7341f38129ff904ccf056b": {
          "model_module": "@jupyter-widgets/controls",
          "model_module_version": "1.5.0",
          "model_name": "DescriptionStyleModel",
          "state": {
            "_model_module": "@jupyter-widgets/controls",
            "_model_module_version": "1.5.0",
            "_model_name": "DescriptionStyleModel",
            "_view_count": null,
            "_view_module": "@jupyter-widgets/base",
            "_view_module_version": "1.2.0",
            "_view_name": "StyleView",
            "description_width": ""
          }
        },
        "273ab814347b4bc394809ff5f1e6b063": {
          "model_module": "@jupyter-widgets/base",
          "model_module_version": "1.2.0",
          "model_name": "LayoutModel",
          "state": {
            "_model_module": "@jupyter-widgets/base",
            "_model_module_version": "1.2.0",
            "_model_name": "LayoutModel",
            "_view_count": null,
            "_view_module": "@jupyter-widgets/base",
            "_view_module_version": "1.2.0",
            "_view_name": "LayoutView",
            "align_content": null,
            "align_items": null,
            "align_self": null,
            "border": null,
            "bottom": null,
            "display": null,
            "flex": null,
            "flex_flow": null,
            "grid_area": null,
            "grid_auto_columns": null,
            "grid_auto_flow": null,
            "grid_auto_rows": null,
            "grid_column": null,
            "grid_gap": null,
            "grid_row": null,
            "grid_template_areas": null,
            "grid_template_columns": null,
            "grid_template_rows": null,
            "height": null,
            "justify_content": null,
            "justify_items": null,
            "left": null,
            "margin": null,
            "max_height": null,
            "max_width": null,
            "min_height": null,
            "min_width": null,
            "object_fit": null,
            "object_position": null,
            "order": null,
            "overflow": null,
            "overflow_x": null,
            "overflow_y": null,
            "padding": null,
            "right": null,
            "top": null,
            "visibility": null,
            "width": null
          }
        },
        "36ce8d9657574b1a8911e7743840d7ff": {
          "model_module": "@jupyter-widgets/controls",
          "model_module_version": "1.5.0",
          "model_name": "HBoxModel",
          "state": {
            "_dom_classes": [],
            "_model_module": "@jupyter-widgets/controls",
            "_model_module_version": "1.5.0",
            "_model_name": "HBoxModel",
            "_view_count": null,
            "_view_module": "@jupyter-widgets/controls",
            "_view_module_version": "1.5.0",
            "_view_name": "HBoxView",
            "box_style": "",
            "children": [
              "IPY_MODEL_df9664849c0f400a8f2aa97ca4ae46c9",
              "IPY_MODEL_9934d807dbb6428f95bc02a009955d34",
              "IPY_MODEL_5cf60224048f489d8878df2f331ee764"
            ],
            "layout": "IPY_MODEL_4ae056d6dca84a88b4bcd1d9e049b0ce"
          }
        },
        "39ccf3750bc44f64b6893024d17622ed": {
          "model_module": "@jupyter-widgets/controls",
          "model_module_version": "1.5.0",
          "model_name": "HTMLModel",
          "state": {
            "_dom_classes": [],
            "_model_module": "@jupyter-widgets/controls",
            "_model_module_version": "1.5.0",
            "_model_name": "HTMLModel",
            "_view_count": null,
            "_view_module": "@jupyter-widgets/controls",
            "_view_module_version": "1.5.0",
            "_view_name": "HTMLView",
            "description": "",
            "description_tooltip": null,
            "layout": "IPY_MODEL_bb337ddd565e4bd7b113e6fb3415e9f4",
            "placeholder": "​",
            "style": "IPY_MODEL_fe651ff72f1148fc982582e6456fbe2d",
            "value": " 250/250 [00:07&lt;00:00, 35.16 examples/s]"
          }
        },
        "3c91d06e25654247835d76f9217f7e1f": {
          "model_module": "@jupyter-widgets/controls",
          "model_module_version": "1.5.0",
          "model_name": "FloatProgressModel",
          "state": {
            "_dom_classes": [],
            "_model_module": "@jupyter-widgets/controls",
            "_model_module_version": "1.5.0",
            "_model_name": "FloatProgressModel",
            "_view_count": null,
            "_view_module": "@jupyter-widgets/controls",
            "_view_module_version": "1.5.0",
            "_view_name": "ProgressView",
            "bar_style": "success",
            "description": "",
            "description_tooltip": null,
            "layout": "IPY_MODEL_950d5d39ce42419db8d58381e58495cf",
            "max": 150,
            "min": 0,
            "orientation": "horizontal",
            "style": "IPY_MODEL_40474747731a4c6b816fdda0901b54b1",
            "value": 150
          }
        },
        "3fe1fed8d2b34f729b9b154137361db6": {
          "model_module": "@jupyter-widgets/base",
          "model_module_version": "1.2.0",
          "model_name": "LayoutModel",
          "state": {
            "_model_module": "@jupyter-widgets/base",
            "_model_module_version": "1.2.0",
            "_model_name": "LayoutModel",
            "_view_count": null,
            "_view_module": "@jupyter-widgets/base",
            "_view_module_version": "1.2.0",
            "_view_name": "LayoutView",
            "align_content": null,
            "align_items": null,
            "align_self": null,
            "border": null,
            "bottom": null,
            "display": null,
            "flex": null,
            "flex_flow": null,
            "grid_area": null,
            "grid_auto_columns": null,
            "grid_auto_flow": null,
            "grid_auto_rows": null,
            "grid_column": null,
            "grid_gap": null,
            "grid_row": null,
            "grid_template_areas": null,
            "grid_template_columns": null,
            "grid_template_rows": null,
            "height": null,
            "justify_content": null,
            "justify_items": null,
            "left": null,
            "margin": null,
            "max_height": null,
            "max_width": null,
            "min_height": null,
            "min_width": null,
            "object_fit": null,
            "object_position": null,
            "order": null,
            "overflow": null,
            "overflow_x": null,
            "overflow_y": null,
            "padding": null,
            "right": null,
            "top": null,
            "visibility": null,
            "width": null
          }
        },
        "40474747731a4c6b816fdda0901b54b1": {
          "model_module": "@jupyter-widgets/controls",
          "model_module_version": "1.5.0",
          "model_name": "ProgressStyleModel",
          "state": {
            "_model_module": "@jupyter-widgets/controls",
            "_model_module_version": "1.5.0",
            "_model_name": "ProgressStyleModel",
            "_view_count": null,
            "_view_module": "@jupyter-widgets/base",
            "_view_module_version": "1.2.0",
            "_view_name": "StyleView",
            "bar_color": null,
            "description_width": ""
          }
        },
        "4756be46210a4e0788192a57dfa8404c": {
          "model_module": "@jupyter-widgets/base",
          "model_module_version": "1.2.0",
          "model_name": "LayoutModel",
          "state": {
            "_model_module": "@jupyter-widgets/base",
            "_model_module_version": "1.2.0",
            "_model_name": "LayoutModel",
            "_view_count": null,
            "_view_module": "@jupyter-widgets/base",
            "_view_module_version": "1.2.0",
            "_view_name": "LayoutView",
            "align_content": null,
            "align_items": null,
            "align_self": null,
            "border": null,
            "bottom": null,
            "display": null,
            "flex": null,
            "flex_flow": null,
            "grid_area": null,
            "grid_auto_columns": null,
            "grid_auto_flow": null,
            "grid_auto_rows": null,
            "grid_column": null,
            "grid_gap": null,
            "grid_row": null,
            "grid_template_areas": null,
            "grid_template_columns": null,
            "grid_template_rows": null,
            "height": null,
            "justify_content": null,
            "justify_items": null,
            "left": null,
            "margin": null,
            "max_height": null,
            "max_width": null,
            "min_height": null,
            "min_width": null,
            "object_fit": null,
            "object_position": null,
            "order": null,
            "overflow": null,
            "overflow_x": null,
            "overflow_y": null,
            "padding": null,
            "right": null,
            "top": null,
            "visibility": null,
            "width": null
          }
        },
        "4ae056d6dca84a88b4bcd1d9e049b0ce": {
          "model_module": "@jupyter-widgets/base",
          "model_module_version": "1.2.0",
          "model_name": "LayoutModel",
          "state": {
            "_model_module": "@jupyter-widgets/base",
            "_model_module_version": "1.2.0",
            "_model_name": "LayoutModel",
            "_view_count": null,
            "_view_module": "@jupyter-widgets/base",
            "_view_module_version": "1.2.0",
            "_view_name": "LayoutView",
            "align_content": null,
            "align_items": null,
            "align_self": null,
            "border": null,
            "bottom": null,
            "display": null,
            "flex": null,
            "flex_flow": null,
            "grid_area": null,
            "grid_auto_columns": null,
            "grid_auto_flow": null,
            "grid_auto_rows": null,
            "grid_column": null,
            "grid_gap": null,
            "grid_row": null,
            "grid_template_areas": null,
            "grid_template_columns": null,
            "grid_template_rows": null,
            "height": null,
            "justify_content": null,
            "justify_items": null,
            "left": null,
            "margin": null,
            "max_height": null,
            "max_width": null,
            "min_height": null,
            "min_width": null,
            "object_fit": null,
            "object_position": null,
            "order": null,
            "overflow": null,
            "overflow_x": null,
            "overflow_y": null,
            "padding": null,
            "right": null,
            "top": null,
            "visibility": null,
            "width": null
          }
        },
        "4b88c1159427400fa501b7c8ac594136": {
          "model_module": "@jupyter-widgets/controls",
          "model_module_version": "1.5.0",
          "model_name": "HTMLModel",
          "state": {
            "_dom_classes": [],
            "_model_module": "@jupyter-widgets/controls",
            "_model_module_version": "1.5.0",
            "_model_name": "HTMLModel",
            "_view_count": null,
            "_view_module": "@jupyter-widgets/controls",
            "_view_module_version": "1.5.0",
            "_view_name": "HTMLView",
            "description": "",
            "description_tooltip": null,
            "layout": "IPY_MODEL_9da5a1d3f0844731bf7683a0d8dbe492",
            "placeholder": "​",
            "style": "IPY_MODEL_5e96584550aa4d7d91015ee5c9cb7e8c",
            "value": "Map: 100%"
          }
        },
        "4ed488c6f8934e07bb4d0cb899e9512d": {
          "model_module": "@jupyter-widgets/base",
          "model_module_version": "1.2.0",
          "model_name": "LayoutModel",
          "state": {
            "_model_module": "@jupyter-widgets/base",
            "_model_module_version": "1.2.0",
            "_model_name": "LayoutModel",
            "_view_count": null,
            "_view_module": "@jupyter-widgets/base",
            "_view_module_version": "1.2.0",
            "_view_name": "LayoutView",
            "align_content": null,
            "align_items": null,
            "align_self": null,
            "border": null,
            "bottom": null,
            "display": null,
            "flex": null,
            "flex_flow": null,
            "grid_area": null,
            "grid_auto_columns": null,
            "grid_auto_flow": null,
            "grid_auto_rows": null,
            "grid_column": null,
            "grid_gap": null,
            "grid_row": null,
            "grid_template_areas": null,
            "grid_template_columns": null,
            "grid_template_rows": null,
            "height": null,
            "justify_content": null,
            "justify_items": null,
            "left": null,
            "margin": null,
            "max_height": null,
            "max_width": null,
            "min_height": null,
            "min_width": null,
            "object_fit": null,
            "object_position": null,
            "order": null,
            "overflow": null,
            "overflow_x": null,
            "overflow_y": null,
            "padding": null,
            "right": null,
            "top": null,
            "visibility": null,
            "width": null
          }
        },
        "5616131119b14d28b5ed520fad858dc5": {
          "model_module": "@jupyter-widgets/controls",
          "model_module_version": "1.5.0",
          "model_name": "HTMLModel",
          "state": {
            "_dom_classes": [],
            "_model_module": "@jupyter-widgets/controls",
            "_model_module_version": "1.5.0",
            "_model_name": "HTMLModel",
            "_view_count": null,
            "_view_module": "@jupyter-widgets/controls",
            "_view_module_version": "1.5.0",
            "_view_name": "HTMLView",
            "description": "",
            "description_tooltip": null,
            "layout": "IPY_MODEL_a41782a0d4ac41a7a8cfcc549b7a2799",
            "placeholder": "​",
            "style": "IPY_MODEL_131cacd35e7341f38129ff904ccf056b",
            "value": "Map: 100%"
          }
        },
        "5bbedd37bd9e448389c4af101c761223": {
          "model_module": "@jupyter-widgets/controls",
          "model_module_version": "1.5.0",
          "model_name": "HTMLModel",
          "state": {
            "_dom_classes": [],
            "_model_module": "@jupyter-widgets/controls",
            "_model_module_version": "1.5.0",
            "_model_name": "HTMLModel",
            "_view_count": null,
            "_view_module": "@jupyter-widgets/controls",
            "_view_module_version": "1.5.0",
            "_view_name": "HTMLView",
            "description": "",
            "description_tooltip": null,
            "layout": "IPY_MODEL_3fe1fed8d2b34f729b9b154137361db6",
            "placeholder": "​",
            "style": "IPY_MODEL_9d49a3ac7f8e415ab6dd85317de1e9cc",
            "value": " 1000/1000 [00:24&lt;00:00, 40.43 examples/s]"
          }
        },
        "5cf60224048f489d8878df2f331ee764": {
          "model_module": "@jupyter-widgets/controls",
          "model_module_version": "1.5.0",
          "model_name": "HTMLModel",
          "state": {
            "_dom_classes": [],
            "_model_module": "@jupyter-widgets/controls",
            "_model_module_version": "1.5.0",
            "_model_name": "HTMLModel",
            "_view_count": null,
            "_view_module": "@jupyter-widgets/controls",
            "_view_module_version": "1.5.0",
            "_view_name": "HTMLView",
            "description": "",
            "description_tooltip": null,
            "layout": "IPY_MODEL_d0efe552e51446279f8032b776702919",
            "placeholder": "​",
            "style": "IPY_MODEL_807b10457d5046d0945b9b2b8d716a51",
            "value": " 160/160 [00:00&lt;00:00, 8.57kB/s]"
          }
        },
        "5e96584550aa4d7d91015ee5c9cb7e8c": {
          "model_module": "@jupyter-widgets/controls",
          "model_module_version": "1.5.0",
          "model_name": "DescriptionStyleModel",
          "state": {
            "_model_module": "@jupyter-widgets/controls",
            "_model_module_version": "1.5.0",
            "_model_name": "DescriptionStyleModel",
            "_view_count": null,
            "_view_module": "@jupyter-widgets/base",
            "_view_module_version": "1.2.0",
            "_view_name": "StyleView",
            "description_width": ""
          }
        },
        "5f3a0d78c96b4485a770bd55da825e29": {
          "model_module": "@jupyter-widgets/controls",
          "model_module_version": "1.5.0",
          "model_name": "FloatProgressModel",
          "state": {
            "_dom_classes": [],
            "_model_module": "@jupyter-widgets/controls",
            "_model_module_version": "1.5.0",
            "_model_name": "FloatProgressModel",
            "_view_count": null,
            "_view_module": "@jupyter-widgets/controls",
            "_view_module_version": "1.5.0",
            "_view_name": "ProgressView",
            "bar_style": "success",
            "description": "",
            "description_tooltip": null,
            "layout": "IPY_MODEL_4756be46210a4e0788192a57dfa8404c",
            "max": 250,
            "min": 0,
            "orientation": "horizontal",
            "style": "IPY_MODEL_9315e3de3b384b11b22b976a3b8bbe83",
            "value": 250
          }
        },
        "67d2ea6b256b43cc910bd2867d9457d1": {
          "model_module": "@jupyter-widgets/controls",
          "model_module_version": "1.5.0",
          "model_name": "HTMLModel",
          "state": {
            "_dom_classes": [],
            "_model_module": "@jupyter-widgets/controls",
            "_model_module_version": "1.5.0",
            "_model_name": "HTMLModel",
            "_view_count": null,
            "_view_module": "@jupyter-widgets/controls",
            "_view_module_version": "1.5.0",
            "_view_name": "HTMLView",
            "description": "",
            "description_tooltip": null,
            "layout": "IPY_MODEL_c8f9b595ed844c4d83a1b9f8ec10c1a1",
            "placeholder": "​",
            "style": "IPY_MODEL_d38333d04f194cd89b2ed1714f56a0f4",
            "value": " 150/150 [00:01&lt;00:00, 86.25 examples/s]"
          }
        },
        "7de39436dad746a5a73379fd82b994d4": {
          "model_module": "@jupyter-widgets/controls",
          "model_module_version": "1.5.0",
          "model_name": "DescriptionStyleModel",
          "state": {
            "_model_module": "@jupyter-widgets/controls",
            "_model_module_version": "1.5.0",
            "_model_name": "DescriptionStyleModel",
            "_view_count": null,
            "_view_module": "@jupyter-widgets/base",
            "_view_module_version": "1.2.0",
            "_view_name": "StyleView",
            "description_width": ""
          }
        },
        "7df71c5fa687419781f30548fc7316f7": {
          "model_module": "@jupyter-widgets/base",
          "model_module_version": "1.2.0",
          "model_name": "LayoutModel",
          "state": {
            "_model_module": "@jupyter-widgets/base",
            "_model_module_version": "1.2.0",
            "_model_name": "LayoutModel",
            "_view_count": null,
            "_view_module": "@jupyter-widgets/base",
            "_view_module_version": "1.2.0",
            "_view_name": "LayoutView",
            "align_content": null,
            "align_items": null,
            "align_self": null,
            "border": null,
            "bottom": null,
            "display": null,
            "flex": null,
            "flex_flow": null,
            "grid_area": null,
            "grid_auto_columns": null,
            "grid_auto_flow": null,
            "grid_auto_rows": null,
            "grid_column": null,
            "grid_gap": null,
            "grid_row": null,
            "grid_template_areas": null,
            "grid_template_columns": null,
            "grid_template_rows": null,
            "height": null,
            "justify_content": null,
            "justify_items": null,
            "left": null,
            "margin": null,
            "max_height": null,
            "max_width": null,
            "min_height": null,
            "min_width": null,
            "object_fit": null,
            "object_position": null,
            "order": null,
            "overflow": null,
            "overflow_x": null,
            "overflow_y": null,
            "padding": null,
            "right": null,
            "top": null,
            "visibility": null,
            "width": null
          }
        },
        "807b10457d5046d0945b9b2b8d716a51": {
          "model_module": "@jupyter-widgets/controls",
          "model_module_version": "1.5.0",
          "model_name": "DescriptionStyleModel",
          "state": {
            "_model_module": "@jupyter-widgets/controls",
            "_model_module_version": "1.5.0",
            "_model_name": "DescriptionStyleModel",
            "_view_count": null,
            "_view_module": "@jupyter-widgets/base",
            "_view_module_version": "1.2.0",
            "_view_name": "StyleView",
            "description_width": ""
          }
        },
        "80c66bf6f69b44f391623bd69057f362": {
          "model_module": "@jupyter-widgets/base",
          "model_module_version": "1.2.0",
          "model_name": "LayoutModel",
          "state": {
            "_model_module": "@jupyter-widgets/base",
            "_model_module_version": "1.2.0",
            "_model_name": "LayoutModel",
            "_view_count": null,
            "_view_module": "@jupyter-widgets/base",
            "_view_module_version": "1.2.0",
            "_view_name": "LayoutView",
            "align_content": null,
            "align_items": null,
            "align_self": null,
            "border": null,
            "bottom": null,
            "display": null,
            "flex": null,
            "flex_flow": null,
            "grid_area": null,
            "grid_auto_columns": null,
            "grid_auto_flow": null,
            "grid_auto_rows": null,
            "grid_column": null,
            "grid_gap": null,
            "grid_row": null,
            "grid_template_areas": null,
            "grid_template_columns": null,
            "grid_template_rows": null,
            "height": null,
            "justify_content": null,
            "justify_items": null,
            "left": null,
            "margin": null,
            "max_height": null,
            "max_width": null,
            "min_height": null,
            "min_width": null,
            "object_fit": null,
            "object_position": null,
            "order": null,
            "overflow": null,
            "overflow_x": null,
            "overflow_y": null,
            "padding": null,
            "right": null,
            "top": null,
            "visibility": null,
            "width": null
          }
        },
        "87951c4dfe8d4526977d21e8169ac1a5": {
          "model_module": "@jupyter-widgets/base",
          "model_module_version": "1.2.0",
          "model_name": "LayoutModel",
          "state": {
            "_model_module": "@jupyter-widgets/base",
            "_model_module_version": "1.2.0",
            "_model_name": "LayoutModel",
            "_view_count": null,
            "_view_module": "@jupyter-widgets/base",
            "_view_module_version": "1.2.0",
            "_view_name": "LayoutView",
            "align_content": null,
            "align_items": null,
            "align_self": null,
            "border": null,
            "bottom": null,
            "display": null,
            "flex": null,
            "flex_flow": null,
            "grid_area": null,
            "grid_auto_columns": null,
            "grid_auto_flow": null,
            "grid_auto_rows": null,
            "grid_column": null,
            "grid_gap": null,
            "grid_row": null,
            "grid_template_areas": null,
            "grid_template_columns": null,
            "grid_template_rows": null,
            "height": null,
            "justify_content": null,
            "justify_items": null,
            "left": null,
            "margin": null,
            "max_height": null,
            "max_width": null,
            "min_height": null,
            "min_width": null,
            "object_fit": null,
            "object_position": null,
            "order": null,
            "overflow": null,
            "overflow_x": null,
            "overflow_y": null,
            "padding": null,
            "right": null,
            "top": null,
            "visibility": null,
            "width": null
          }
        },
        "900dce9c3e5d419daf1093f342460bed": {
          "model_module": "@jupyter-widgets/controls",
          "model_module_version": "1.5.0",
          "model_name": "HBoxModel",
          "state": {
            "_dom_classes": [],
            "_model_module": "@jupyter-widgets/controls",
            "_model_module_version": "1.5.0",
            "_model_name": "HBoxModel",
            "_view_count": null,
            "_view_module": "@jupyter-widgets/controls",
            "_view_module_version": "1.5.0",
            "_view_name": "HBoxView",
            "box_style": "",
            "children": [
              "IPY_MODEL_adc63d2ff9fb4f4da158a0d1341b7f01",
              "IPY_MODEL_5f3a0d78c96b4485a770bd55da825e29",
              "IPY_MODEL_39ccf3750bc44f64b6893024d17622ed"
            ],
            "layout": "IPY_MODEL_273ab814347b4bc394809ff5f1e6b063"
          }
        },
        "9315e3de3b384b11b22b976a3b8bbe83": {
          "model_module": "@jupyter-widgets/controls",
          "model_module_version": "1.5.0",
          "model_name": "ProgressStyleModel",
          "state": {
            "_model_module": "@jupyter-widgets/controls",
            "_model_module_version": "1.5.0",
            "_model_name": "ProgressStyleModel",
            "_view_count": null,
            "_view_module": "@jupyter-widgets/base",
            "_view_module_version": "1.2.0",
            "_view_name": "StyleView",
            "bar_color": null,
            "description_width": ""
          }
        },
        "950d5d39ce42419db8d58381e58495cf": {
          "model_module": "@jupyter-widgets/base",
          "model_module_version": "1.2.0",
          "model_name": "LayoutModel",
          "state": {
            "_model_module": "@jupyter-widgets/base",
            "_model_module_version": "1.2.0",
            "_model_name": "LayoutModel",
            "_view_count": null,
            "_view_module": "@jupyter-widgets/base",
            "_view_module_version": "1.2.0",
            "_view_name": "LayoutView",
            "align_content": null,
            "align_items": null,
            "align_self": null,
            "border": null,
            "bottom": null,
            "display": null,
            "flex": null,
            "flex_flow": null,
            "grid_area": null,
            "grid_auto_columns": null,
            "grid_auto_flow": null,
            "grid_auto_rows": null,
            "grid_column": null,
            "grid_gap": null,
            "grid_row": null,
            "grid_template_areas": null,
            "grid_template_columns": null,
            "grid_template_rows": null,
            "height": null,
            "justify_content": null,
            "justify_items": null,
            "left": null,
            "margin": null,
            "max_height": null,
            "max_width": null,
            "min_height": null,
            "min_width": null,
            "object_fit": null,
            "object_position": null,
            "order": null,
            "overflow": null,
            "overflow_x": null,
            "overflow_y": null,
            "padding": null,
            "right": null,
            "top": null,
            "visibility": null,
            "width": null
          }
        },
        "9934d807dbb6428f95bc02a009955d34": {
          "model_module": "@jupyter-widgets/controls",
          "model_module_version": "1.5.0",
          "model_name": "FloatProgressModel",
          "state": {
            "_dom_classes": [],
            "_model_module": "@jupyter-widgets/controls",
            "_model_module_version": "1.5.0",
            "_model_name": "FloatProgressModel",
            "_view_count": null,
            "_view_module": "@jupyter-widgets/controls",
            "_view_module_version": "1.5.0",
            "_view_name": "ProgressView",
            "bar_style": "success",
            "description": "",
            "description_tooltip": null,
            "layout": "IPY_MODEL_9971aad12e8f432f9596276a97cba973",
            "max": 160,
            "min": 0,
            "orientation": "horizontal",
            "style": "IPY_MODEL_a2c1460e77a9416b8884dc54ca8216dd",
            "value": 160
          }
        },
        "9971aad12e8f432f9596276a97cba973": {
          "model_module": "@jupyter-widgets/base",
          "model_module_version": "1.2.0",
          "model_name": "LayoutModel",
          "state": {
            "_model_module": "@jupyter-widgets/base",
            "_model_module_version": "1.2.0",
            "_model_name": "LayoutModel",
            "_view_count": null,
            "_view_module": "@jupyter-widgets/base",
            "_view_module_version": "1.2.0",
            "_view_name": "LayoutView",
            "align_content": null,
            "align_items": null,
            "align_self": null,
            "border": null,
            "bottom": null,
            "display": null,
            "flex": null,
            "flex_flow": null,
            "grid_area": null,
            "grid_auto_columns": null,
            "grid_auto_flow": null,
            "grid_auto_rows": null,
            "grid_column": null,
            "grid_gap": null,
            "grid_row": null,
            "grid_template_areas": null,
            "grid_template_columns": null,
            "grid_template_rows": null,
            "height": null,
            "justify_content": null,
            "justify_items": null,
            "left": null,
            "margin": null,
            "max_height": null,
            "max_width": null,
            "min_height": null,
            "min_width": null,
            "object_fit": null,
            "object_position": null,
            "order": null,
            "overflow": null,
            "overflow_x": null,
            "overflow_y": null,
            "padding": null,
            "right": null,
            "top": null,
            "visibility": null,
            "width": null
          }
        },
        "9d49a3ac7f8e415ab6dd85317de1e9cc": {
          "model_module": "@jupyter-widgets/controls",
          "model_module_version": "1.5.0",
          "model_name": "DescriptionStyleModel",
          "state": {
            "_model_module": "@jupyter-widgets/controls",
            "_model_module_version": "1.5.0",
            "_model_name": "DescriptionStyleModel",
            "_view_count": null,
            "_view_module": "@jupyter-widgets/base",
            "_view_module_version": "1.2.0",
            "_view_name": "StyleView",
            "description_width": ""
          }
        },
        "9da5a1d3f0844731bf7683a0d8dbe492": {
          "model_module": "@jupyter-widgets/base",
          "model_module_version": "1.2.0",
          "model_name": "LayoutModel",
          "state": {
            "_model_module": "@jupyter-widgets/base",
            "_model_module_version": "1.2.0",
            "_model_name": "LayoutModel",
            "_view_count": null,
            "_view_module": "@jupyter-widgets/base",
            "_view_module_version": "1.2.0",
            "_view_name": "LayoutView",
            "align_content": null,
            "align_items": null,
            "align_self": null,
            "border": null,
            "bottom": null,
            "display": null,
            "flex": null,
            "flex_flow": null,
            "grid_area": null,
            "grid_auto_columns": null,
            "grid_auto_flow": null,
            "grid_auto_rows": null,
            "grid_column": null,
            "grid_gap": null,
            "grid_row": null,
            "grid_template_areas": null,
            "grid_template_columns": null,
            "grid_template_rows": null,
            "height": null,
            "justify_content": null,
            "justify_items": null,
            "left": null,
            "margin": null,
            "max_height": null,
            "max_width": null,
            "min_height": null,
            "min_width": null,
            "object_fit": null,
            "object_position": null,
            "order": null,
            "overflow": null,
            "overflow_x": null,
            "overflow_y": null,
            "padding": null,
            "right": null,
            "top": null,
            "visibility": null,
            "width": null
          }
        },
        "a2c1460e77a9416b8884dc54ca8216dd": {
          "model_module": "@jupyter-widgets/controls",
          "model_module_version": "1.5.0",
          "model_name": "ProgressStyleModel",
          "state": {
            "_model_module": "@jupyter-widgets/controls",
            "_model_module_version": "1.5.0",
            "_model_name": "ProgressStyleModel",
            "_view_count": null,
            "_view_module": "@jupyter-widgets/base",
            "_view_module_version": "1.2.0",
            "_view_name": "StyleView",
            "bar_color": null,
            "description_width": ""
          }
        },
        "a41782a0d4ac41a7a8cfcc549b7a2799": {
          "model_module": "@jupyter-widgets/base",
          "model_module_version": "1.2.0",
          "model_name": "LayoutModel",
          "state": {
            "_model_module": "@jupyter-widgets/base",
            "_model_module_version": "1.2.0",
            "_model_name": "LayoutModel",
            "_view_count": null,
            "_view_module": "@jupyter-widgets/base",
            "_view_module_version": "1.2.0",
            "_view_name": "LayoutView",
            "align_content": null,
            "align_items": null,
            "align_self": null,
            "border": null,
            "bottom": null,
            "display": null,
            "flex": null,
            "flex_flow": null,
            "grid_area": null,
            "grid_auto_columns": null,
            "grid_auto_flow": null,
            "grid_auto_rows": null,
            "grid_column": null,
            "grid_gap": null,
            "grid_row": null,
            "grid_template_areas": null,
            "grid_template_columns": null,
            "grid_template_rows": null,
            "height": null,
            "justify_content": null,
            "justify_items": null,
            "left": null,
            "margin": null,
            "max_height": null,
            "max_width": null,
            "min_height": null,
            "min_width": null,
            "object_fit": null,
            "object_position": null,
            "order": null,
            "overflow": null,
            "overflow_x": null,
            "overflow_y": null,
            "padding": null,
            "right": null,
            "top": null,
            "visibility": null,
            "width": null
          }
        },
        "adc63d2ff9fb4f4da158a0d1341b7f01": {
          "model_module": "@jupyter-widgets/controls",
          "model_module_version": "1.5.0",
          "model_name": "HTMLModel",
          "state": {
            "_dom_classes": [],
            "_model_module": "@jupyter-widgets/controls",
            "_model_module_version": "1.5.0",
            "_model_name": "HTMLModel",
            "_view_count": null,
            "_view_module": "@jupyter-widgets/controls",
            "_view_module_version": "1.5.0",
            "_view_name": "HTMLView",
            "description": "",
            "description_tooltip": null,
            "layout": "IPY_MODEL_7df71c5fa687419781f30548fc7316f7",
            "placeholder": "​",
            "style": "IPY_MODEL_ea03904efebf46f0b4255f7953f992f5",
            "value": "Map: 100%"
          }
        },
        "bb337ddd565e4bd7b113e6fb3415e9f4": {
          "model_module": "@jupyter-widgets/base",
          "model_module_version": "1.2.0",
          "model_name": "LayoutModel",
          "state": {
            "_model_module": "@jupyter-widgets/base",
            "_model_module_version": "1.2.0",
            "_model_name": "LayoutModel",
            "_view_count": null,
            "_view_module": "@jupyter-widgets/base",
            "_view_module_version": "1.2.0",
            "_view_name": "LayoutView",
            "align_content": null,
            "align_items": null,
            "align_self": null,
            "border": null,
            "bottom": null,
            "display": null,
            "flex": null,
            "flex_flow": null,
            "grid_area": null,
            "grid_auto_columns": null,
            "grid_auto_flow": null,
            "grid_auto_rows": null,
            "grid_column": null,
            "grid_gap": null,
            "grid_row": null,
            "grid_template_areas": null,
            "grid_template_columns": null,
            "grid_template_rows": null,
            "height": null,
            "justify_content": null,
            "justify_items": null,
            "left": null,
            "margin": null,
            "max_height": null,
            "max_width": null,
            "min_height": null,
            "min_width": null,
            "object_fit": null,
            "object_position": null,
            "order": null,
            "overflow": null,
            "overflow_x": null,
            "overflow_y": null,
            "padding": null,
            "right": null,
            "top": null,
            "visibility": null,
            "width": null
          }
        },
        "c8f9b595ed844c4d83a1b9f8ec10c1a1": {
          "model_module": "@jupyter-widgets/base",
          "model_module_version": "1.2.0",
          "model_name": "LayoutModel",
          "state": {
            "_model_module": "@jupyter-widgets/base",
            "_model_module_version": "1.2.0",
            "_model_name": "LayoutModel",
            "_view_count": null,
            "_view_module": "@jupyter-widgets/base",
            "_view_module_version": "1.2.0",
            "_view_name": "LayoutView",
            "align_content": null,
            "align_items": null,
            "align_self": null,
            "border": null,
            "bottom": null,
            "display": null,
            "flex": null,
            "flex_flow": null,
            "grid_area": null,
            "grid_auto_columns": null,
            "grid_auto_flow": null,
            "grid_auto_rows": null,
            "grid_column": null,
            "grid_gap": null,
            "grid_row": null,
            "grid_template_areas": null,
            "grid_template_columns": null,
            "grid_template_rows": null,
            "height": null,
            "justify_content": null,
            "justify_items": null,
            "left": null,
            "margin": null,
            "max_height": null,
            "max_width": null,
            "min_height": null,
            "min_width": null,
            "object_fit": null,
            "object_position": null,
            "order": null,
            "overflow": null,
            "overflow_x": null,
            "overflow_y": null,
            "padding": null,
            "right": null,
            "top": null,
            "visibility": null,
            "width": null
          }
        },
        "d0efe552e51446279f8032b776702919": {
          "model_module": "@jupyter-widgets/base",
          "model_module_version": "1.2.0",
          "model_name": "LayoutModel",
          "state": {
            "_model_module": "@jupyter-widgets/base",
            "_model_module_version": "1.2.0",
            "_model_name": "LayoutModel",
            "_view_count": null,
            "_view_module": "@jupyter-widgets/base",
            "_view_module_version": "1.2.0",
            "_view_name": "LayoutView",
            "align_content": null,
            "align_items": null,
            "align_self": null,
            "border": null,
            "bottom": null,
            "display": null,
            "flex": null,
            "flex_flow": null,
            "grid_area": null,
            "grid_auto_columns": null,
            "grid_auto_flow": null,
            "grid_auto_rows": null,
            "grid_column": null,
            "grid_gap": null,
            "grid_row": null,
            "grid_template_areas": null,
            "grid_template_columns": null,
            "grid_template_rows": null,
            "height": null,
            "justify_content": null,
            "justify_items": null,
            "left": null,
            "margin": null,
            "max_height": null,
            "max_width": null,
            "min_height": null,
            "min_width": null,
            "object_fit": null,
            "object_position": null,
            "order": null,
            "overflow": null,
            "overflow_x": null,
            "overflow_y": null,
            "padding": null,
            "right": null,
            "top": null,
            "visibility": null,
            "width": null
          }
        },
        "d2dea94b52f94cd3ab3d3a1715619677": {
          "model_module": "@jupyter-widgets/controls",
          "model_module_version": "1.5.0",
          "model_name": "HBoxModel",
          "state": {
            "_dom_classes": [],
            "_model_module": "@jupyter-widgets/controls",
            "_model_module_version": "1.5.0",
            "_model_name": "HBoxModel",
            "_view_count": null,
            "_view_module": "@jupyter-widgets/controls",
            "_view_module_version": "1.5.0",
            "_view_name": "HBoxView",
            "box_style": "",
            "children": [
              "IPY_MODEL_4b88c1159427400fa501b7c8ac594136",
              "IPY_MODEL_3c91d06e25654247835d76f9217f7e1f",
              "IPY_MODEL_67d2ea6b256b43cc910bd2867d9457d1"
            ],
            "layout": "IPY_MODEL_87951c4dfe8d4526977d21e8169ac1a5"
          }
        },
        "d38333d04f194cd89b2ed1714f56a0f4": {
          "model_module": "@jupyter-widgets/controls",
          "model_module_version": "1.5.0",
          "model_name": "DescriptionStyleModel",
          "state": {
            "_model_module": "@jupyter-widgets/controls",
            "_model_module_version": "1.5.0",
            "_model_name": "DescriptionStyleModel",
            "_view_count": null,
            "_view_module": "@jupyter-widgets/base",
            "_view_module_version": "1.2.0",
            "_view_name": "StyleView",
            "description_width": ""
          }
        },
        "df9664849c0f400a8f2aa97ca4ae46c9": {
          "model_module": "@jupyter-widgets/controls",
          "model_module_version": "1.5.0",
          "model_name": "HTMLModel",
          "state": {
            "_dom_classes": [],
            "_model_module": "@jupyter-widgets/controls",
            "_model_module_version": "1.5.0",
            "_model_name": "HTMLModel",
            "_view_count": null,
            "_view_module": "@jupyter-widgets/controls",
            "_view_module_version": "1.5.0",
            "_view_name": "HTMLView",
            "description": "",
            "description_tooltip": null,
            "layout": "IPY_MODEL_80c66bf6f69b44f391623bd69057f362",
            "placeholder": "​",
            "style": "IPY_MODEL_7de39436dad746a5a73379fd82b994d4",
            "value": "preprocessor_config.json: 100%"
          }
        },
        "e473dde53c644a22b614a2c237c80af5": {
          "model_module": "@jupyter-widgets/controls",
          "model_module_version": "1.5.0",
          "model_name": "ProgressStyleModel",
          "state": {
            "_model_module": "@jupyter-widgets/controls",
            "_model_module_version": "1.5.0",
            "_model_name": "ProgressStyleModel",
            "_view_count": null,
            "_view_module": "@jupyter-widgets/base",
            "_view_module_version": "1.2.0",
            "_view_name": "StyleView",
            "bar_color": null,
            "description_width": ""
          }
        },
        "ea03904efebf46f0b4255f7953f992f5": {
          "model_module": "@jupyter-widgets/controls",
          "model_module_version": "1.5.0",
          "model_name": "DescriptionStyleModel",
          "state": {
            "_model_module": "@jupyter-widgets/controls",
            "_model_module_version": "1.5.0",
            "_model_name": "DescriptionStyleModel",
            "_view_count": null,
            "_view_module": "@jupyter-widgets/base",
            "_view_module_version": "1.2.0",
            "_view_name": "StyleView",
            "description_width": ""
          }
        },
        "fe62e91880a749e1a9c78186161b61f0": {
          "model_module": "@jupyter-widgets/base",
          "model_module_version": "1.2.0",
          "model_name": "LayoutModel",
          "state": {
            "_model_module": "@jupyter-widgets/base",
            "_model_module_version": "1.2.0",
            "_model_name": "LayoutModel",
            "_view_count": null,
            "_view_module": "@jupyter-widgets/base",
            "_view_module_version": "1.2.0",
            "_view_name": "LayoutView",
            "align_content": null,
            "align_items": null,
            "align_self": null,
            "border": null,
            "bottom": null,
            "display": null,
            "flex": null,
            "flex_flow": null,
            "grid_area": null,
            "grid_auto_columns": null,
            "grid_auto_flow": null,
            "grid_auto_rows": null,
            "grid_column": null,
            "grid_gap": null,
            "grid_row": null,
            "grid_template_areas": null,
            "grid_template_columns": null,
            "grid_template_rows": null,
            "height": null,
            "justify_content": null,
            "justify_items": null,
            "left": null,
            "margin": null,
            "max_height": null,
            "max_width": null,
            "min_height": null,
            "min_width": null,
            "object_fit": null,
            "object_position": null,
            "order": null,
            "overflow": null,
            "overflow_x": null,
            "overflow_y": null,
            "padding": null,
            "right": null,
            "top": null,
            "visibility": null,
            "width": null
          }
        },
        "fe651ff72f1148fc982582e6456fbe2d": {
          "model_module": "@jupyter-widgets/controls",
          "model_module_version": "1.5.0",
          "model_name": "DescriptionStyleModel",
          "state": {
            "_model_module": "@jupyter-widgets/controls",
            "_model_module_version": "1.5.0",
            "_model_name": "DescriptionStyleModel",
            "_view_count": null,
            "_view_module": "@jupyter-widgets/base",
            "_view_module_version": "1.2.0",
            "_view_name": "StyleView",
            "description_width": ""
          }
        }
      }
    }
  },
  "nbformat": 4,
  "nbformat_minor": 0
}